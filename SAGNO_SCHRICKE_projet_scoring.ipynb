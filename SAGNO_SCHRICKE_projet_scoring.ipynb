{
 "cells": [
  {
   "cell_type": "markdown",
   "metadata": {},
   "source": [
    "# Projet 2 : Scoring prêt automobile.\n",
    "<br><br>\n",
    "`Présenté par` : **Ibrahima SAGNO et Cassandra SCHRICKE**  \n",
    "                    <div align=\"left\"> `Master 2 SEP` </div>\n",
    "<br>\n",
    "\n",
    "`Sommaire `:<br>\n",
    "* [Importation des bibliothèques et des modules](#libraries)\n",
    "* [I - Traitement de la base](#partie_1)\n",
    "    * [I.1 - Importation de la base de données](#importBdd)\n",
    "    * [I.2 - Variables](#variables)\n",
    "        * [I.2.i - Selection des variables](#vaSlection)\n",
    "        * [I.2.ii - Formatage des variables](#vaFormatage)\n",
    "    * [I.3 - Selections des individus](#selectInd)\n",
    "* [II - Statistiques descriptives : analyse univariée et bivariée](#statsDesc)\n",
    "* [III - Modélisation](#modelisation)\n",
    "    * [III.1 - Régression logistique](#RegLog)\n",
    "        * [III.1.i - Régression logistique équilibrée](#RegLogEqui)\n",
    "        * [III.1.ii - Régression logistique sur échantillon manuellement équilibré](#RegLogEquiMan)\n",
    "        * [III.1.iii - Régression logistique par validation croisée](#RegLogVa)\n",
    "    * [III.2 - Random Forest](#RandomForest)\n",
    "        * [III.2.i - Random Forest sur échantillon manuellement équilibré](#RandomForestEqMan)\n",
    "        * [III.2.ii -Selection des hyperparamètres en Random Forest](#RanForSelectPara)\n",
    "        * [III.2.iii - Importance des variables par Random Forest](#ImpVariable)\n",
    "    * [III.3 - SVM](#SVM)\n",
    "        * [III.3.i - SVM équilibré manuellement](#SvmManuel)\n",
    "        * [III.3.ii - Selection des hyperparamètres en SVM](#SvmSelectPara)\n",
    "    * [III.4 - Bagging & Boosting](#Bagging)\n",
    "    * [III.5 - Vérification de l'overfitting](#VerifOverfitting)\n",
    "    * [III.6 - Choix du meilleur modèle : courbe ROC](#CourbeRoc)\n",
    "* [IV - Selection des clients les plus appétents](#SelecClients)    \n",
    "        \n",
    "<br>\n",
    " \n",
    "`Resumé :` L'étude vise à déterminer les 5000 clients les plus appétents pour l'offre de prêt automobile en utilisant les techniques d'apprentissage supervisé."
   ]
  },
  {
   "cell_type": "markdown",
   "metadata": {},
   "source": [
    "## Importation des bibliothèques et des modules <a class=\"anchor\" id=\"libraries\"></a>"
   ]
  },
  {
   "cell_type": "code",
   "execution_count": 1,
   "metadata": {},
   "outputs": [],
   "source": [
    "import pandas as pd\n",
    "import numpy as np\n",
    "import seaborn as sns\n",
    "import matplotlib.pyplot as plt\n",
    "import scipy.stats as stats\n",
    "from scipy.stats import ttest_ind\n",
    "from sklearn import preprocessing\n",
    "from sklearn.linear_model import LogisticRegression\n",
    "from sklearn.model_selection import train_test_split, GridSearchCV, cross_val_score,learning_curve, validation_curve\n",
    "from sklearn.ensemble import RandomForestClassifier, AdaBoostClassifier, ExtraTreesClassifier, BaggingClassifier\n",
    "from sklearn.tree import DecisionTreeClassifier\n",
    "from sklearn.metrics import classification_report, recall_score, f1_score, roc_curve, auc\n",
    "from sklearn.feature_selection import SelectKBest, chi2, SelectFromModel\n",
    "from sklearn.preprocessing import LabelEncoder\n",
    "from sklearn.svm import SVC\n",
    "import random\n",
    "\n",
    "\n",
    "import warnings\n",
    "warnings.filterwarnings('ignore')"
   ]
  },
  {
   "cell_type": "markdown",
   "metadata": {},
   "source": [
    "## Traitement de la base <a class=\"anchor\" id=\"partie_1\"></a>\n",
    "\n",
    "Avant de construire le modèle, il a été nécessaire de réaliser un travail de préparation de la base de données. En effet, celle-ci possède un grand nombre de variables qui ne sont pas toutes pertinentes dans le cadre de cette étude. C'est également le cas pour les individus. Ainsi, dans cette partie, il s'agit de détailler les différentes étapes de la préparation de la base de données ainsi que le raisonnement pour le choix des variables et des individus."
   ]
  },
  {
   "cell_type": "markdown",
   "metadata": {},
   "source": [
    "### Importation de la base de données  <a class=\"anchor\" id=\"importBdd\"></a>"
   ]
  },
  {
   "cell_type": "code",
   "execution_count": 2,
   "metadata": {
    "scrolled": true
   },
   "outputs": [
    {
     "data": {
      "text/html": [
       "<div>\n",
       "<style scoped>\n",
       "    .dataframe tbody tr th:only-of-type {\n",
       "        vertical-align: middle;\n",
       "    }\n",
       "\n",
       "    .dataframe tbody tr th {\n",
       "        vertical-align: top;\n",
       "    }\n",
       "\n",
       "    .dataframe thead th {\n",
       "        text-align: right;\n",
       "    }\n",
       "</style>\n",
       "<table border=\"1\" class=\"dataframe\">\n",
       "  <thead>\n",
       "    <tr style=\"text-align: right;\">\n",
       "      <th></th>\n",
       "      <th>Secteur</th>\n",
       "      <th>Agence</th>\n",
       "      <th>I_Salarie_CR</th>\n",
       "      <th>Groupe_CSP</th>\n",
       "      <th>Age_PP</th>\n",
       "      <th>Nouveau_Client</th>\n",
       "      <th>Sit_Fam</th>\n",
       "      <th>N_Adultes_CC</th>\n",
       "      <th>N_enfants_CC</th>\n",
       "      <th>N_Membres_CC</th>\n",
       "      <th>Depart_Resid</th>\n",
       "      <th>Filtre_exclusion</th>\n",
       "      <th>Metier_portef</th>\n",
       "      <th>N_Contacts_A</th>\n",
       "      <th>I_Non_Vu</th>\n",
       "      <th>NIR_T</th>\n",
       "      <th>CA_dom_A</th>\n",
       "      <th>Cap_Accum</th>\n",
       "      <th>Dispo_Mensuel</th>\n",
       "      <th>Flux_Corr</th>\n",
       "      <th>SM_DAV_A</th>\n",
       "      <th>E_DAV</th>\n",
       "      <th>E_CSL</th>\n",
       "      <th>E_Tiwi</th>\n",
       "      <th>E_LMZ</th>\n",
       "      <th>E_LDD</th>\n",
       "      <th>E_LEP</th>\n",
       "      <th>E_CEL</th>\n",
       "      <th>E_PEL</th>\n",
       "      <th>T_PERP</th>\n",
       "      <th>T_Collecte</th>\n",
       "      <th>T_Ep_Risque</th>\n",
       "      <th>T_Ep_Taux_Fixe</th>\n",
       "      <th>T_Epar_Assur</th>\n",
       "      <th>T_Epargne</th>\n",
       "      <th>T_Liquidités</th>\n",
       "      <th>T_Livrets</th>\n",
       "      <th>T_Cpt_Titres</th>\n",
       "      <th>T_PEA</th>\n",
       "      <th>N_DAV</th>\n",
       "      <th>N_CSL</th>\n",
       "      <th>N_Tiwi</th>\n",
       "      <th>N_LMZ</th>\n",
       "      <th>N_LDD</th>\n",
       "      <th>N_LEP</th>\n",
       "      <th>N_Livrets</th>\n",
       "      <th>N_Cel</th>\n",
       "      <th>N_PEL</th>\n",
       "      <th>N_PERP</th>\n",
       "      <th>N_Cpt_Titres</th>\n",
       "      <th>N_PEA</th>\n",
       "      <th>N_Cpt_Tit_PEA</th>\n",
       "      <th>Tarif_reel</th>\n",
       "      <th>T_P_Auto</th>\n",
       "      <th>T_P_Etudiant</th>\n",
       "      <th>T_P_Habitat</th>\n",
       "      <th>T_Conso</th>\n",
       "      <th>T_P_Familiaux</th>\n",
       "      <th>T_Carte_Ret</th>\n",
       "      <th>T_Carte_Paiement</th>\n",
       "      <th>T_Carte</th>\n",
       "      <th>N_IARD_Auto</th>\n",
       "      <th>N_IARD_MRH</th>\n",
       "      <th>N_IARD_PJ</th>\n",
       "      <th>N_Assur_Obseques</th>\n",
       "      <th>T_Contrats_IARD</th>\n",
       "      <th>N_Dependance</th>\n",
       "      <th>N_GAV</th>\n",
       "      <th>N_IVP</th>\n",
       "      <th>N_VP</th>\n",
       "      <th>T_IVP_VP</th>\n",
       "      <th>T_Ass_Personnes</th>\n",
       "      <th>T_Ass_Sante</th>\n",
       "      <th>T_Comptes_Services</th>\n",
       "      <th>Mt_Paiem_Carte</th>\n",
       "      <th>Mt_Prelev_Auto</th>\n",
       "      <th>N_Cheque_Emis</th>\n",
       "      <th>N_Connexion_Cael</th>\n",
       "      <th>N_Ope_credit</th>\n",
       "      <th>N_Ope_debit</th>\n",
       "      <th>N_Ope_Tot</th>\n",
       "      <th>N_Paiem_Carte</th>\n",
       "      <th>N_Prelev_Auto</th>\n",
       "      <th>N_Remise_Chq</th>\n",
       "      <th>N_Ret_GAB</th>\n",
       "      <th>N_Ret_Guichet</th>\n",
       "      <th>N_Versements</th>\n",
       "      <th>N_Vir_Recus</th>\n",
       "      <th>T_Vir_Emis</th>\n",
       "      <th>Ut_Internet</th>\n",
       "      <th>P_DAV</th>\n",
       "      <th>P_CSL</th>\n",
       "      <th>P_Tiwi</th>\n",
       "      <th>P_LMZ</th>\n",
       "      <th>P_LDD</th>\n",
       "      <th>P_LEP</th>\n",
       "      <th>P_Livrets</th>\n",
       "      <th>P_Cel</th>\n",
       "      <th>P_PEL</th>\n",
       "      <th>P_PERP</th>\n",
       "      <th>P_Oblig</th>\n",
       "      <th>P_OPCVM</th>\n",
       "      <th>P_Actions</th>\n",
       "      <th>P_Collecte</th>\n",
       "      <th>P_Epargne</th>\n",
       "      <th>P_Cpt_Tit_PEA</th>\n",
       "      <th>P_Cpt_Titres</th>\n",
       "      <th>P_PEA</th>\n",
       "      <th>P_P_Auto</th>\n",
       "      <th>P_P_Etudiant</th>\n",
       "      <th>P_Conso</th>\n",
       "      <th>P_P_Familiaux</th>\n",
       "      <th>P_P_Habitat</th>\n",
       "      <th>P_C_Moz_Ret</th>\n",
       "      <th>P_C_Moz_Paiem</th>\n",
       "      <th>P_C_Autre_Carte</th>\n",
       "      <th>P_C_Maestro</th>\n",
       "      <th>P_C_Paiem_DI</th>\n",
       "      <th>P_C_Paiem_DD</th>\n",
       "      <th>P_C_Gold_Visa_DD</th>\n",
       "      <th>P_Carte_Ret</th>\n",
       "      <th>P_Carte_Paiement</th>\n",
       "      <th>P_Carte</th>\n",
       "      <th>P_Comptes_Services</th>\n",
       "      <th>P_Dependance</th>\n",
       "      <th>P_GAV</th>\n",
       "      <th>P_IVP</th>\n",
       "      <th>P_VP</th>\n",
       "      <th>P_Ass_Personnes</th>\n",
       "      <th>P_Ass_Sante</th>\n",
       "      <th>P_IARD_PJ</th>\n",
       "      <th>P_IARD_Auto</th>\n",
       "      <th>P_IARD_MRH</th>\n",
       "      <th>N_Prod_Collecte</th>\n",
       "      <th>N_Services</th>\n",
       "      <th>N_Produits</th>\n",
       "    </tr>\n",
       "    <tr>\n",
       "      <th>Numero_Client</th>\n",
       "      <th></th>\n",
       "      <th></th>\n",
       "      <th></th>\n",
       "      <th></th>\n",
       "      <th></th>\n",
       "      <th></th>\n",
       "      <th></th>\n",
       "      <th></th>\n",
       "      <th></th>\n",
       "      <th></th>\n",
       "      <th></th>\n",
       "      <th></th>\n",
       "      <th></th>\n",
       "      <th></th>\n",
       "      <th></th>\n",
       "      <th></th>\n",
       "      <th></th>\n",
       "      <th></th>\n",
       "      <th></th>\n",
       "      <th></th>\n",
       "      <th></th>\n",
       "      <th></th>\n",
       "      <th></th>\n",
       "      <th></th>\n",
       "      <th></th>\n",
       "      <th></th>\n",
       "      <th></th>\n",
       "      <th></th>\n",
       "      <th></th>\n",
       "      <th></th>\n",
       "      <th></th>\n",
       "      <th></th>\n",
       "      <th></th>\n",
       "      <th></th>\n",
       "      <th></th>\n",
       "      <th></th>\n",
       "      <th></th>\n",
       "      <th></th>\n",
       "      <th></th>\n",
       "      <th></th>\n",
       "      <th></th>\n",
       "      <th></th>\n",
       "      <th></th>\n",
       "      <th></th>\n",
       "      <th></th>\n",
       "      <th></th>\n",
       "      <th></th>\n",
       "      <th></th>\n",
       "      <th></th>\n",
       "      <th></th>\n",
       "      <th></th>\n",
       "      <th></th>\n",
       "      <th></th>\n",
       "      <th></th>\n",
       "      <th></th>\n",
       "      <th></th>\n",
       "      <th></th>\n",
       "      <th></th>\n",
       "      <th></th>\n",
       "      <th></th>\n",
       "      <th></th>\n",
       "      <th></th>\n",
       "      <th></th>\n",
       "      <th></th>\n",
       "      <th></th>\n",
       "      <th></th>\n",
       "      <th></th>\n",
       "      <th></th>\n",
       "      <th></th>\n",
       "      <th></th>\n",
       "      <th></th>\n",
       "      <th></th>\n",
       "      <th></th>\n",
       "      <th></th>\n",
       "      <th></th>\n",
       "      <th></th>\n",
       "      <th></th>\n",
       "      <th></th>\n",
       "      <th></th>\n",
       "      <th></th>\n",
       "      <th></th>\n",
       "      <th></th>\n",
       "      <th></th>\n",
       "      <th></th>\n",
       "      <th></th>\n",
       "      <th></th>\n",
       "      <th></th>\n",
       "      <th></th>\n",
       "      <th></th>\n",
       "      <th></th>\n",
       "      <th></th>\n",
       "      <th></th>\n",
       "      <th></th>\n",
       "      <th></th>\n",
       "      <th></th>\n",
       "      <th></th>\n",
       "      <th></th>\n",
       "      <th></th>\n",
       "      <th></th>\n",
       "      <th></th>\n",
       "      <th></th>\n",
       "      <th></th>\n",
       "      <th></th>\n",
       "      <th></th>\n",
       "      <th></th>\n",
       "      <th></th>\n",
       "      <th></th>\n",
       "      <th></th>\n",
       "      <th></th>\n",
       "      <th></th>\n",
       "      <th></th>\n",
       "      <th></th>\n",
       "      <th></th>\n",
       "      <th></th>\n",
       "      <th></th>\n",
       "      <th></th>\n",
       "      <th></th>\n",
       "      <th></th>\n",
       "      <th></th>\n",
       "      <th></th>\n",
       "      <th></th>\n",
       "      <th></th>\n",
       "      <th></th>\n",
       "      <th></th>\n",
       "      <th></th>\n",
       "      <th></th>\n",
       "      <th></th>\n",
       "      <th></th>\n",
       "      <th></th>\n",
       "      <th></th>\n",
       "      <th></th>\n",
       "      <th></th>\n",
       "      <th></th>\n",
       "      <th></th>\n",
       "      <th></th>\n",
       "      <th></th>\n",
       "    </tr>\n",
       "  </thead>\n",
       "  <tbody>\n",
       "    <tr>\n",
       "      <th>1</th>\n",
       "      <td>1882</td>\n",
       "      <td>421</td>\n",
       "      <td>NS</td>\n",
       "      <td>8</td>\n",
       "      <td>80</td>\n",
       "      <td>N</td>\n",
       "      <td>2</td>\n",
       "      <td>1</td>\n",
       "      <td>0</td>\n",
       "      <td>1</td>\n",
       "      <td>8</td>\n",
       "      <td>0</td>\n",
       "      <td>PTBA</td>\n",
       "      <td>0</td>\n",
       "      <td>1</td>\n",
       "      <td>56</td>\n",
       "      <td>11746</td>\n",
       "      <td>44</td>\n",
       "      <td>630</td>\n",
       "      <td>11746</td>\n",
       "      <td>2320</td>\n",
       "      <td>1517</td>\n",
       "      <td>0</td>\n",
       "      <td>0</td>\n",
       "      <td>0</td>\n",
       "      <td>0</td>\n",
       "      <td>2049</td>\n",
       "      <td>0</td>\n",
       "      <td>0</td>\n",
       "      <td>0</td>\n",
       "      <td>3566</td>\n",
       "      <td>0</td>\n",
       "      <td>2049</td>\n",
       "      <td>0</td>\n",
       "      <td>2049</td>\n",
       "      <td>3566</td>\n",
       "      <td>2049</td>\n",
       "      <td>0</td>\n",
       "      <td>0</td>\n",
       "      <td>1</td>\n",
       "      <td>0</td>\n",
       "      <td>0</td>\n",
       "      <td>0</td>\n",
       "      <td>0</td>\n",
       "      <td>1</td>\n",
       "      <td>1</td>\n",
       "      <td>0</td>\n",
       "      <td>0</td>\n",
       "      <td>0</td>\n",
       "      <td>0</td>\n",
       "      <td>0</td>\n",
       "      <td>0</td>\n",
       "      <td>91</td>\n",
       "      <td>0</td>\n",
       "      <td>0</td>\n",
       "      <td>0</td>\n",
       "      <td>0</td>\n",
       "      <td>0</td>\n",
       "      <td>0</td>\n",
       "      <td>1</td>\n",
       "      <td>1</td>\n",
       "      <td>0</td>\n",
       "      <td>0</td>\n",
       "      <td>0</td>\n",
       "      <td>0</td>\n",
       "      <td>0</td>\n",
       "      <td>0</td>\n",
       "      <td>0</td>\n",
       "      <td>0</td>\n",
       "      <td>0</td>\n",
       "      <td>0</td>\n",
       "      <td>0</td>\n",
       "      <td>0</td>\n",
       "      <td>1</td>\n",
       "      <td>0</td>\n",
       "      <td>4181</td>\n",
       "      <td>140</td>\n",
       "      <td>0</td>\n",
       "      <td>82</td>\n",
       "      <td>235</td>\n",
       "      <td>317</td>\n",
       "      <td>0</td>\n",
       "      <td>60</td>\n",
       "      <td>2</td>\n",
       "      <td>8</td>\n",
       "      <td>1</td>\n",
       "      <td>0</td>\n",
       "      <td>79</td>\n",
       "      <td>2</td>\n",
       "      <td>0</td>\n",
       "      <td>1</td>\n",
       "      <td>0</td>\n",
       "      <td>0</td>\n",
       "      <td>0</td>\n",
       "      <td>0</td>\n",
       "      <td>1</td>\n",
       "      <td>1</td>\n",
       "      <td>0</td>\n",
       "      <td>0</td>\n",
       "      <td>0</td>\n",
       "      <td>0</td>\n",
       "      <td>0</td>\n",
       "      <td>0</td>\n",
       "      <td>1</td>\n",
       "      <td>1</td>\n",
       "      <td>0</td>\n",
       "      <td>0</td>\n",
       "      <td>0</td>\n",
       "      <td>0</td>\n",
       "      <td>0</td>\n",
       "      <td>0</td>\n",
       "      <td>0</td>\n",
       "      <td>0</td>\n",
       "      <td>0</td>\n",
       "      <td>0</td>\n",
       "      <td>0</td>\n",
       "      <td>0</td>\n",
       "      <td>1</td>\n",
       "      <td>0</td>\n",
       "      <td>0</td>\n",
       "      <td>0</td>\n",
       "      <td>1</td>\n",
       "      <td>1</td>\n",
       "      <td>1</td>\n",
       "      <td>0</td>\n",
       "      <td>0</td>\n",
       "      <td>0</td>\n",
       "      <td>0</td>\n",
       "      <td>0</td>\n",
       "      <td>0</td>\n",
       "      <td>0</td>\n",
       "      <td>0</td>\n",
       "      <td>0</td>\n",
       "      <td>2</td>\n",
       "      <td>2</td>\n",
       "      <td>4</td>\n",
       "    </tr>\n",
       "    <tr>\n",
       "      <th>2</th>\n",
       "      <td>1882</td>\n",
       "      <td>411</td>\n",
       "      <td>NS</td>\n",
       "      <td>5</td>\n",
       "      <td>53</td>\n",
       "      <td>N</td>\n",
       "      <td>4</td>\n",
       "      <td>1</td>\n",
       "      <td>0</td>\n",
       "      <td>1</td>\n",
       "      <td>8</td>\n",
       "      <td>0</td>\n",
       "      <td>PTPA</td>\n",
       "      <td>3</td>\n",
       "      <td>0</td>\n",
       "      <td>75</td>\n",
       "      <td>29021</td>\n",
       "      <td>2422</td>\n",
       "      <td>1149</td>\n",
       "      <td>29021</td>\n",
       "      <td>14363</td>\n",
       "      <td>747</td>\n",
       "      <td>118</td>\n",
       "      <td>0</td>\n",
       "      <td>0</td>\n",
       "      <td>6084</td>\n",
       "      <td>7852</td>\n",
       "      <td>0</td>\n",
       "      <td>675</td>\n",
       "      <td>0</td>\n",
       "      <td>128368</td>\n",
       "      <td>0</td>\n",
       "      <td>18008</td>\n",
       "      <td>109611</td>\n",
       "      <td>127621</td>\n",
       "      <td>17203</td>\n",
       "      <td>16455</td>\n",
       "      <td>878</td>\n",
       "      <td>0</td>\n",
       "      <td>1</td>\n",
       "      <td>1</td>\n",
       "      <td>0</td>\n",
       "      <td>0</td>\n",
       "      <td>1</td>\n",
       "      <td>1</td>\n",
       "      <td>4</td>\n",
       "      <td>0</td>\n",
       "      <td>1</td>\n",
       "      <td>0</td>\n",
       "      <td>1</td>\n",
       "      <td>0</td>\n",
       "      <td>1</td>\n",
       "      <td>117</td>\n",
       "      <td>0</td>\n",
       "      <td>0</td>\n",
       "      <td>0</td>\n",
       "      <td>0</td>\n",
       "      <td>0</td>\n",
       "      <td>0</td>\n",
       "      <td>1</td>\n",
       "      <td>1</td>\n",
       "      <td>0</td>\n",
       "      <td>0</td>\n",
       "      <td>0</td>\n",
       "      <td>0</td>\n",
       "      <td>0</td>\n",
       "      <td>0</td>\n",
       "      <td>0</td>\n",
       "      <td>0</td>\n",
       "      <td>0</td>\n",
       "      <td>0</td>\n",
       "      <td>0</td>\n",
       "      <td>0</td>\n",
       "      <td>1</td>\n",
       "      <td>6849</td>\n",
       "      <td>15231</td>\n",
       "      <td>103</td>\n",
       "      <td>58</td>\n",
       "      <td>78</td>\n",
       "      <td>514</td>\n",
       "      <td>592</td>\n",
       "      <td>174</td>\n",
       "      <td>153</td>\n",
       "      <td>13</td>\n",
       "      <td>51</td>\n",
       "      <td>3</td>\n",
       "      <td>0</td>\n",
       "      <td>64</td>\n",
       "      <td>10</td>\n",
       "      <td>1</td>\n",
       "      <td>1</td>\n",
       "      <td>1</td>\n",
       "      <td>0</td>\n",
       "      <td>0</td>\n",
       "      <td>1</td>\n",
       "      <td>1</td>\n",
       "      <td>1</td>\n",
       "      <td>0</td>\n",
       "      <td>1</td>\n",
       "      <td>0</td>\n",
       "      <td>0</td>\n",
       "      <td>0</td>\n",
       "      <td>0</td>\n",
       "      <td>1</td>\n",
       "      <td>1</td>\n",
       "      <td>1</td>\n",
       "      <td>1</td>\n",
       "      <td>0</td>\n",
       "      <td>0</td>\n",
       "      <td>0</td>\n",
       "      <td>0</td>\n",
       "      <td>0</td>\n",
       "      <td>0</td>\n",
       "      <td>0</td>\n",
       "      <td>0</td>\n",
       "      <td>0</td>\n",
       "      <td>0</td>\n",
       "      <td>1</td>\n",
       "      <td>0</td>\n",
       "      <td>0</td>\n",
       "      <td>0</td>\n",
       "      <td>1</td>\n",
       "      <td>1</td>\n",
       "      <td>1</td>\n",
       "      <td>0</td>\n",
       "      <td>0</td>\n",
       "      <td>0</td>\n",
       "      <td>0</td>\n",
       "      <td>0</td>\n",
       "      <td>0</td>\n",
       "      <td>0</td>\n",
       "      <td>0</td>\n",
       "      <td>0</td>\n",
       "      <td>10</td>\n",
       "      <td>2</td>\n",
       "      <td>12</td>\n",
       "    </tr>\n",
       "    <tr>\n",
       "      <th>3</th>\n",
       "      <td>1880</td>\n",
       "      <td>428</td>\n",
       "      <td>NS</td>\n",
       "      <td>3</td>\n",
       "      <td>57</td>\n",
       "      <td>N</td>\n",
       "      <td>2</td>\n",
       "      <td>2</td>\n",
       "      <td>2</td>\n",
       "      <td>4</td>\n",
       "      <td>8</td>\n",
       "      <td>0</td>\n",
       "      <td>PTPA</td>\n",
       "      <td>6</td>\n",
       "      <td>0</td>\n",
       "      <td>77</td>\n",
       "      <td>35862</td>\n",
       "      <td>132</td>\n",
       "      <td>2780</td>\n",
       "      <td>25615</td>\n",
       "      <td>723</td>\n",
       "      <td>2420</td>\n",
       "      <td>0</td>\n",
       "      <td>2229</td>\n",
       "      <td>0</td>\n",
       "      <td>171</td>\n",
       "      <td>1070</td>\n",
       "      <td>0</td>\n",
       "      <td>0</td>\n",
       "      <td>1674</td>\n",
       "      <td>7565</td>\n",
       "      <td>0</td>\n",
       "      <td>3470</td>\n",
       "      <td>1674</td>\n",
       "      <td>5144</td>\n",
       "      <td>5891</td>\n",
       "      <td>3470</td>\n",
       "      <td>0</td>\n",
       "      <td>0</td>\n",
       "      <td>1</td>\n",
       "      <td>0</td>\n",
       "      <td>2</td>\n",
       "      <td>0</td>\n",
       "      <td>1</td>\n",
       "      <td>1</td>\n",
       "      <td>4</td>\n",
       "      <td>0</td>\n",
       "      <td>0</td>\n",
       "      <td>1</td>\n",
       "      <td>0</td>\n",
       "      <td>0</td>\n",
       "      <td>0</td>\n",
       "      <td>80</td>\n",
       "      <td>5000</td>\n",
       "      <td>0</td>\n",
       "      <td>0</td>\n",
       "      <td>5000</td>\n",
       "      <td>5000</td>\n",
       "      <td>1</td>\n",
       "      <td>1</td>\n",
       "      <td>2</td>\n",
       "      <td>0</td>\n",
       "      <td>0</td>\n",
       "      <td>0</td>\n",
       "      <td>0</td>\n",
       "      <td>0</td>\n",
       "      <td>0</td>\n",
       "      <td>0</td>\n",
       "      <td>0</td>\n",
       "      <td>0</td>\n",
       "      <td>0</td>\n",
       "      <td>0</td>\n",
       "      <td>0</td>\n",
       "      <td>1</td>\n",
       "      <td>5167</td>\n",
       "      <td>1514</td>\n",
       "      <td>119</td>\n",
       "      <td>36</td>\n",
       "      <td>51</td>\n",
       "      <td>350</td>\n",
       "      <td>401</td>\n",
       "      <td>113</td>\n",
       "      <td>20</td>\n",
       "      <td>5</td>\n",
       "      <td>21</td>\n",
       "      <td>7</td>\n",
       "      <td>2</td>\n",
       "      <td>55</td>\n",
       "      <td>13</td>\n",
       "      <td>1</td>\n",
       "      <td>1</td>\n",
       "      <td>0</td>\n",
       "      <td>1</td>\n",
       "      <td>0</td>\n",
       "      <td>1</td>\n",
       "      <td>1</td>\n",
       "      <td>1</td>\n",
       "      <td>0</td>\n",
       "      <td>0</td>\n",
       "      <td>1</td>\n",
       "      <td>0</td>\n",
       "      <td>0</td>\n",
       "      <td>0</td>\n",
       "      <td>1</td>\n",
       "      <td>1</td>\n",
       "      <td>0</td>\n",
       "      <td>0</td>\n",
       "      <td>0</td>\n",
       "      <td>1</td>\n",
       "      <td>0</td>\n",
       "      <td>1</td>\n",
       "      <td>1</td>\n",
       "      <td>0</td>\n",
       "      <td>1</td>\n",
       "      <td>0</td>\n",
       "      <td>1</td>\n",
       "      <td>0</td>\n",
       "      <td>0</td>\n",
       "      <td>0</td>\n",
       "      <td>0</td>\n",
       "      <td>1</td>\n",
       "      <td>1</td>\n",
       "      <td>1</td>\n",
       "      <td>1</td>\n",
       "      <td>0</td>\n",
       "      <td>0</td>\n",
       "      <td>0</td>\n",
       "      <td>0</td>\n",
       "      <td>0</td>\n",
       "      <td>0</td>\n",
       "      <td>0</td>\n",
       "      <td>0</td>\n",
       "      <td>0</td>\n",
       "      <td>6</td>\n",
       "      <td>3</td>\n",
       "      <td>10</td>\n",
       "    </tr>\n",
       "    <tr>\n",
       "      <th>4</th>\n",
       "      <td>1882</td>\n",
       "      <td>412</td>\n",
       "      <td>NS</td>\n",
       "      <td>6</td>\n",
       "      <td>46</td>\n",
       "      <td>N</td>\n",
       "      <td>4</td>\n",
       "      <td>1</td>\n",
       "      <td>0</td>\n",
       "      <td>1</td>\n",
       "      <td>8</td>\n",
       "      <td>1</td>\n",
       "      <td>PTBA</td>\n",
       "      <td>2</td>\n",
       "      <td>0</td>\n",
       "      <td>76</td>\n",
       "      <td>42913</td>\n",
       "      <td>27</td>\n",
       "      <td>3044</td>\n",
       "      <td>42913</td>\n",
       "      <td>-43</td>\n",
       "      <td>1166</td>\n",
       "      <td>0</td>\n",
       "      <td>0</td>\n",
       "      <td>0</td>\n",
       "      <td>85</td>\n",
       "      <td>0</td>\n",
       "      <td>0</td>\n",
       "      <td>0</td>\n",
       "      <td>0</td>\n",
       "      <td>1281</td>\n",
       "      <td>0</td>\n",
       "      <td>85</td>\n",
       "      <td>28</td>\n",
       "      <td>114</td>\n",
       "      <td>1252</td>\n",
       "      <td>85</td>\n",
       "      <td>0</td>\n",
       "      <td>0</td>\n",
       "      <td>1</td>\n",
       "      <td>0</td>\n",
       "      <td>0</td>\n",
       "      <td>0</td>\n",
       "      <td>1</td>\n",
       "      <td>0</td>\n",
       "      <td>1</td>\n",
       "      <td>0</td>\n",
       "      <td>0</td>\n",
       "      <td>0</td>\n",
       "      <td>0</td>\n",
       "      <td>0</td>\n",
       "      <td>0</td>\n",
       "      <td>548</td>\n",
       "      <td>0</td>\n",
       "      <td>0</td>\n",
       "      <td>0</td>\n",
       "      <td>436</td>\n",
       "      <td>436</td>\n",
       "      <td>0</td>\n",
       "      <td>1</td>\n",
       "      <td>1</td>\n",
       "      <td>0</td>\n",
       "      <td>0</td>\n",
       "      <td>0</td>\n",
       "      <td>0</td>\n",
       "      <td>0</td>\n",
       "      <td>0</td>\n",
       "      <td>1</td>\n",
       "      <td>0</td>\n",
       "      <td>0</td>\n",
       "      <td>0</td>\n",
       "      <td>1</td>\n",
       "      <td>0</td>\n",
       "      <td>1</td>\n",
       "      <td>1421</td>\n",
       "      <td>5054</td>\n",
       "      <td>327</td>\n",
       "      <td>21</td>\n",
       "      <td>131</td>\n",
       "      <td>669</td>\n",
       "      <td>800</td>\n",
       "      <td>73</td>\n",
       "      <td>120</td>\n",
       "      <td>20</td>\n",
       "      <td>81</td>\n",
       "      <td>20</td>\n",
       "      <td>19</td>\n",
       "      <td>80</td>\n",
       "      <td>24</td>\n",
       "      <td>1</td>\n",
       "      <td>1</td>\n",
       "      <td>0</td>\n",
       "      <td>0</td>\n",
       "      <td>0</td>\n",
       "      <td>1</td>\n",
       "      <td>0</td>\n",
       "      <td>1</td>\n",
       "      <td>0</td>\n",
       "      <td>0</td>\n",
       "      <td>0</td>\n",
       "      <td>0</td>\n",
       "      <td>0</td>\n",
       "      <td>0</td>\n",
       "      <td>1</td>\n",
       "      <td>1</td>\n",
       "      <td>0</td>\n",
       "      <td>0</td>\n",
       "      <td>0</td>\n",
       "      <td>0</td>\n",
       "      <td>0</td>\n",
       "      <td>1</td>\n",
       "      <td>1</td>\n",
       "      <td>0</td>\n",
       "      <td>0</td>\n",
       "      <td>0</td>\n",
       "      <td>0</td>\n",
       "      <td>1</td>\n",
       "      <td>0</td>\n",
       "      <td>0</td>\n",
       "      <td>0</td>\n",
       "      <td>0</td>\n",
       "      <td>1</td>\n",
       "      <td>1</td>\n",
       "      <td>1</td>\n",
       "      <td>0</td>\n",
       "      <td>1</td>\n",
       "      <td>0</td>\n",
       "      <td>0</td>\n",
       "      <td>1</td>\n",
       "      <td>0</td>\n",
       "      <td>0</td>\n",
       "      <td>0</td>\n",
       "      <td>0</td>\n",
       "      <td>3</td>\n",
       "      <td>3</td>\n",
       "      <td>8</td>\n",
       "    </tr>\n",
       "    <tr>\n",
       "      <th>5</th>\n",
       "      <td>1882</td>\n",
       "      <td>410</td>\n",
       "      <td>NS</td>\n",
       "      <td>6</td>\n",
       "      <td>50</td>\n",
       "      <td>N</td>\n",
       "      <td>4</td>\n",
       "      <td>1</td>\n",
       "      <td>0</td>\n",
       "      <td>1</td>\n",
       "      <td>8</td>\n",
       "      <td>0</td>\n",
       "      <td>PTBA</td>\n",
       "      <td>0</td>\n",
       "      <td>1</td>\n",
       "      <td>32</td>\n",
       "      <td>685</td>\n",
       "      <td>0</td>\n",
       "      <td>34</td>\n",
       "      <td>685</td>\n",
       "      <td>-259</td>\n",
       "      <td>-9</td>\n",
       "      <td>0</td>\n",
       "      <td>0</td>\n",
       "      <td>0</td>\n",
       "      <td>0</td>\n",
       "      <td>0</td>\n",
       "      <td>0</td>\n",
       "      <td>0</td>\n",
       "      <td>0</td>\n",
       "      <td>-9</td>\n",
       "      <td>0</td>\n",
       "      <td>0</td>\n",
       "      <td>0</td>\n",
       "      <td>0</td>\n",
       "      <td>-9</td>\n",
       "      <td>0</td>\n",
       "      <td>0</td>\n",
       "      <td>0</td>\n",
       "      <td>1</td>\n",
       "      <td>0</td>\n",
       "      <td>0</td>\n",
       "      <td>0</td>\n",
       "      <td>0</td>\n",
       "      <td>0</td>\n",
       "      <td>0</td>\n",
       "      <td>0</td>\n",
       "      <td>0</td>\n",
       "      <td>0</td>\n",
       "      <td>0</td>\n",
       "      <td>0</td>\n",
       "      <td>0</td>\n",
       "      <td>134</td>\n",
       "      <td>0</td>\n",
       "      <td>0</td>\n",
       "      <td>0</td>\n",
       "      <td>0</td>\n",
       "      <td>0</td>\n",
       "      <td>0</td>\n",
       "      <td>1</td>\n",
       "      <td>1</td>\n",
       "      <td>0</td>\n",
       "      <td>0</td>\n",
       "      <td>0</td>\n",
       "      <td>0</td>\n",
       "      <td>0</td>\n",
       "      <td>0</td>\n",
       "      <td>0</td>\n",
       "      <td>0</td>\n",
       "      <td>0</td>\n",
       "      <td>0</td>\n",
       "      <td>0</td>\n",
       "      <td>0</td>\n",
       "      <td>1</td>\n",
       "      <td>0</td>\n",
       "      <td>272</td>\n",
       "      <td>0</td>\n",
       "      <td>0</td>\n",
       "      <td>10</td>\n",
       "      <td>31</td>\n",
       "      <td>41</td>\n",
       "      <td>0</td>\n",
       "      <td>13</td>\n",
       "      <td>9</td>\n",
       "      <td>0</td>\n",
       "      <td>0</td>\n",
       "      <td>1</td>\n",
       "      <td>0</td>\n",
       "      <td>0</td>\n",
       "      <td>0</td>\n",
       "      <td>1</td>\n",
       "      <td>0</td>\n",
       "      <td>0</td>\n",
       "      <td>0</td>\n",
       "      <td>0</td>\n",
       "      <td>0</td>\n",
       "      <td>0</td>\n",
       "      <td>0</td>\n",
       "      <td>0</td>\n",
       "      <td>0</td>\n",
       "      <td>0</td>\n",
       "      <td>0</td>\n",
       "      <td>0</td>\n",
       "      <td>0</td>\n",
       "      <td>0</td>\n",
       "      <td>0</td>\n",
       "      <td>0</td>\n",
       "      <td>0</td>\n",
       "      <td>0</td>\n",
       "      <td>0</td>\n",
       "      <td>0</td>\n",
       "      <td>0</td>\n",
       "      <td>0</td>\n",
       "      <td>0</td>\n",
       "      <td>0</td>\n",
       "      <td>0</td>\n",
       "      <td>1</td>\n",
       "      <td>0</td>\n",
       "      <td>0</td>\n",
       "      <td>0</td>\n",
       "      <td>0</td>\n",
       "      <td>1</td>\n",
       "      <td>1</td>\n",
       "      <td>1</td>\n",
       "      <td>0</td>\n",
       "      <td>0</td>\n",
       "      <td>0</td>\n",
       "      <td>0</td>\n",
       "      <td>0</td>\n",
       "      <td>0</td>\n",
       "      <td>0</td>\n",
       "      <td>0</td>\n",
       "      <td>0</td>\n",
       "      <td>1</td>\n",
       "      <td>2</td>\n",
       "      <td>3</td>\n",
       "    </tr>\n",
       "  </tbody>\n",
       "</table>\n",
       "</div>"
      ],
      "text/plain": [
       "               Secteur  Agence I_Salarie_CR  Groupe_CSP  Age_PP  \\\n",
       "Numero_Client                                                     \n",
       "1                 1882     421           NS           8      80   \n",
       "2                 1882     411           NS           5      53   \n",
       "3                 1880     428           NS           3      57   \n",
       "4                 1882     412           NS           6      46   \n",
       "5                 1882     410           NS           6      50   \n",
       "\n",
       "              Nouveau_Client  Sit_Fam  N_Adultes_CC  N_enfants_CC  \\\n",
       "Numero_Client                                                       \n",
       "1                          N        2             1             0   \n",
       "2                          N        4             1             0   \n",
       "3                          N        2             2             2   \n",
       "4                          N        4             1             0   \n",
       "5                          N        4             1             0   \n",
       "\n",
       "               N_Membres_CC  Depart_Resid  Filtre_exclusion Metier_portef  \\\n",
       "Numero_Client                                                               \n",
       "1                         1             8                 0          PTBA   \n",
       "2                         1             8                 0          PTPA   \n",
       "3                         4             8                 0          PTPA   \n",
       "4                         1             8                 1          PTBA   \n",
       "5                         1             8                 0          PTBA   \n",
       "\n",
       "               N_Contacts_A  I_Non_Vu  NIR_T  CA_dom_A  Cap_Accum  \\\n",
       "Numero_Client                                                       \n",
       "1                         0         1     56     11746         44   \n",
       "2                         3         0     75     29021       2422   \n",
       "3                         6         0     77     35862        132   \n",
       "4                         2         0     76     42913         27   \n",
       "5                         0         1     32       685          0   \n",
       "\n",
       "               Dispo_Mensuel  Flux_Corr  SM_DAV_A  E_DAV  E_CSL  E_Tiwi  \\\n",
       "Numero_Client                                                             \n",
       "1                        630      11746      2320   1517      0       0   \n",
       "2                       1149      29021     14363    747    118       0   \n",
       "3                       2780      25615       723   2420      0    2229   \n",
       "4                       3044      42913       -43   1166      0       0   \n",
       "5                         34        685      -259     -9      0       0   \n",
       "\n",
       "               E_LMZ  E_LDD  E_LEP  E_CEL  E_PEL  T_PERP  T_Collecte  \\\n",
       "Numero_Client                                                          \n",
       "1                  0      0   2049      0      0       0        3566   \n",
       "2                  0   6084   7852      0    675       0      128368   \n",
       "3                  0    171   1070      0      0    1674        7565   \n",
       "4                  0     85      0      0      0       0        1281   \n",
       "5                  0      0      0      0      0       0          -9   \n",
       "\n",
       "               T_Ep_Risque  T_Ep_Taux_Fixe  T_Epar_Assur  T_Epargne  \\\n",
       "Numero_Client                                                         \n",
       "1                        0            2049             0       2049   \n",
       "2                        0           18008        109611     127621   \n",
       "3                        0            3470          1674       5144   \n",
       "4                        0              85            28        114   \n",
       "5                        0               0             0          0   \n",
       "\n",
       "               T_Liquidités  T_Livrets  T_Cpt_Titres  T_PEA  N_DAV  N_CSL  \\\n",
       "Numero_Client                                                               \n",
       "1                      3566       2049             0      0      1      0   \n",
       "2                     17203      16455           878      0      1      1   \n",
       "3                      5891       3470             0      0      1      0   \n",
       "4                      1252         85             0      0      1      0   \n",
       "5                        -9          0             0      0      1      0   \n",
       "\n",
       "               N_Tiwi  N_LMZ  N_LDD  N_LEP  N_Livrets  N_Cel  N_PEL  N_PERP  \\\n",
       "Numero_Client                                                                 \n",
       "1                   0      0      0      1          1      0      0       0   \n",
       "2                   0      0      1      1          4      0      1       0   \n",
       "3                   2      0      1      1          4      0      0       1   \n",
       "4                   0      0      1      0          1      0      0       0   \n",
       "5                   0      0      0      0          0      0      0       0   \n",
       "\n",
       "               N_Cpt_Titres  N_PEA  N_Cpt_Tit_PEA  Tarif_reel  T_P_Auto  \\\n",
       "Numero_Client                                                             \n",
       "1                         0      0              0          91         0   \n",
       "2                         1      0              1         117         0   \n",
       "3                         0      0              0          80      5000   \n",
       "4                         0      0              0         548         0   \n",
       "5                         0      0              0         134         0   \n",
       "\n",
       "               T_P_Etudiant  T_P_Habitat  T_Conso  T_P_Familiaux  T_Carte_Ret  \\\n",
       "Numero_Client                                                                   \n",
       "1                         0            0        0              0            0   \n",
       "2                         0            0        0              0            0   \n",
       "3                         0            0     5000           5000            1   \n",
       "4                         0            0      436            436            0   \n",
       "5                         0            0        0              0            0   \n",
       "\n",
       "               T_Carte_Paiement  T_Carte  N_IARD_Auto  N_IARD_MRH  N_IARD_PJ  \\\n",
       "Numero_Client                                                                  \n",
       "1                             1        1            0           0          0   \n",
       "2                             1        1            0           0          0   \n",
       "3                             1        2            0           0          0   \n",
       "4                             1        1            0           0          0   \n",
       "5                             1        1            0           0          0   \n",
       "\n",
       "               N_Assur_Obseques  T_Contrats_IARD  N_Dependance  N_GAV  N_IVP  \\\n",
       "Numero_Client                                                                  \n",
       "1                             0                0             0      0      0   \n",
       "2                             0                0             0      0      0   \n",
       "3                             0                0             0      0      0   \n",
       "4                             0                0             0      1      0   \n",
       "5                             0                0             0      0      0   \n",
       "\n",
       "               N_VP  T_IVP_VP  T_Ass_Personnes  T_Ass_Sante  \\\n",
       "Numero_Client                                                 \n",
       "1                 0         0                0            0   \n",
       "2                 0         0                0            0   \n",
       "3                 0         0                0            0   \n",
       "4                 0         0                1            0   \n",
       "5                 0         0                0            0   \n",
       "\n",
       "               T_Comptes_Services  Mt_Paiem_Carte  Mt_Prelev_Auto  \\\n",
       "Numero_Client                                                       \n",
       "1                               1               0            4181   \n",
       "2                               1            6849           15231   \n",
       "3                               1            5167            1514   \n",
       "4                               1            1421            5054   \n",
       "5                               1               0             272   \n",
       "\n",
       "               N_Cheque_Emis  N_Connexion_Cael  N_Ope_credit  N_Ope_debit  \\\n",
       "Numero_Client                                                               \n",
       "1                        140                 0            82          235   \n",
       "2                        103                58            78          514   \n",
       "3                        119                36            51          350   \n",
       "4                        327                21           131          669   \n",
       "5                          0                 0            10           31   \n",
       "\n",
       "               N_Ope_Tot  N_Paiem_Carte  N_Prelev_Auto  N_Remise_Chq  \\\n",
       "Numero_Client                                                          \n",
       "1                    317              0             60             2   \n",
       "2                    592            174            153            13   \n",
       "3                    401            113             20             5   \n",
       "4                    800             73            120            20   \n",
       "5                     41              0             13             9   \n",
       "\n",
       "               N_Ret_GAB  N_Ret_Guichet  N_Versements  N_Vir_Recus  \\\n",
       "Numero_Client                                                        \n",
       "1                      8              1             0           79   \n",
       "2                     51              3             0           64   \n",
       "3                     21              7             2           55   \n",
       "4                     81             20            19           80   \n",
       "5                      0              0             1            0   \n",
       "\n",
       "               T_Vir_Emis  Ut_Internet  P_DAV  P_CSL  P_Tiwi  P_LMZ  P_LDD  \\\n",
       "Numero_Client                                                                \n",
       "1                       2            0      1      0       0      0      0   \n",
       "2                      10            1      1      1       0      0      1   \n",
       "3                      13            1      1      0       1      0      1   \n",
       "4                      24            1      1      0       0      0      1   \n",
       "5                       0            0      1      0       0      0      0   \n",
       "\n",
       "               P_LEP  P_Livrets  P_Cel  P_PEL  P_PERP  P_Oblig  P_OPCVM  \\\n",
       "Numero_Client                                                             \n",
       "1                  1          1      0      0       0        0        0   \n",
       "2                  1          1      0      1       0        0        0   \n",
       "3                  1          1      0      0       1        0        0   \n",
       "4                  0          1      0      0       0        0        0   \n",
       "5                  0          0      0      0       0        0        0   \n",
       "\n",
       "               P_Actions  P_Collecte  P_Epargne  P_Cpt_Tit_PEA  P_Cpt_Titres  \\\n",
       "Numero_Client                                                                  \n",
       "1                      0           1          1              0             0   \n",
       "2                      0           1          1              1             1   \n",
       "3                      0           1          1              0             0   \n",
       "4                      0           1          1              0             0   \n",
       "5                      0           0          0              0             0   \n",
       "\n",
       "               P_PEA  P_P_Auto  P_P_Etudiant  P_Conso  P_P_Familiaux  \\\n",
       "Numero_Client                                                          \n",
       "1                  0         0             0        0              0   \n",
       "2                  0         0             0        0              0   \n",
       "3                  0         1             0        1              1   \n",
       "4                  0         0             0        1              1   \n",
       "5                  0         0             0        0              0   \n",
       "\n",
       "               P_P_Habitat  P_C_Moz_Ret  P_C_Moz_Paiem  P_C_Autre_Carte  \\\n",
       "Numero_Client                                                             \n",
       "1                        0            0              0                0   \n",
       "2                        0            0              0                0   \n",
       "3                        0            1              0                1   \n",
       "4                        0            0              0                0   \n",
       "5                        0            0              0                0   \n",
       "\n",
       "               P_C_Maestro  P_C_Paiem_DI  P_C_Paiem_DD  P_C_Gold_Visa_DD  \\\n",
       "Numero_Client                                                              \n",
       "1                        0             1             0                 0   \n",
       "2                        0             1             0                 0   \n",
       "3                        0             0             0                 0   \n",
       "4                        1             0             0                 0   \n",
       "5                        1             0             0                 0   \n",
       "\n",
       "               P_Carte_Ret  P_Carte_Paiement  P_Carte  P_Comptes_Services  \\\n",
       "Numero_Client                                                               \n",
       "1                        0                 1        1                   1   \n",
       "2                        0                 1        1                   1   \n",
       "3                        1                 1        1                   1   \n",
       "4                        0                 1        1                   1   \n",
       "5                        0                 1        1                   1   \n",
       "\n",
       "               P_Dependance  P_GAV  P_IVP  P_VP  P_Ass_Personnes  P_Ass_Sante  \\\n",
       "Numero_Client                                                                   \n",
       "1                         0      0      0     0                0            0   \n",
       "2                         0      0      0     0                0            0   \n",
       "3                         0      0      0     0                0            0   \n",
       "4                         0      1      0     0                1            0   \n",
       "5                         0      0      0     0                0            0   \n",
       "\n",
       "               P_IARD_PJ  P_IARD_Auto  P_IARD_MRH  N_Prod_Collecte  \\\n",
       "Numero_Client                                                        \n",
       "1                      0            0           0                2   \n",
       "2                      0            0           0               10   \n",
       "3                      0            0           0                6   \n",
       "4                      0            0           0                3   \n",
       "5                      0            0           0                1   \n",
       "\n",
       "               N_Services  N_Produits  \n",
       "Numero_Client                          \n",
       "1                       2           4  \n",
       "2                       2          12  \n",
       "3                       3          10  \n",
       "4                       3           8  \n",
       "5                       2           3  "
      ]
     },
     "execution_count": 2,
     "metadata": {},
     "output_type": "execute_result"
    }
   ],
   "source": [
    "# Importation de la base de données en mettant la variable *Numero_Client* en index\n",
    "data = pd.read_csv(\"base_banque.csv\",encoding='latin-1',sep=\";\").set_index(\"Numero_Client\")\n",
    "\n",
    "# Option qui permet d'afficher l'ensemble des colonnes\n",
    "pd.set_option('display.max_columns',137) \n",
    "\n",
    "# Affichage des 5 premiers lignes de la base de données\n",
    "data.head()"
   ]
  },
  {
   "cell_type": "code",
   "execution_count": 3,
   "metadata": {},
   "outputs": [
    {
     "name": "stdout",
     "output_type": "stream",
     "text": [
      "La base de données est composée de 43957 individus et de 136 variables.\n"
     ]
    }
   ],
   "source": [
    "# Affiche les dimensions de la base de données\n",
    "print(\"La base de données est composée de\", data.shape[0], \"individus et de\", data.shape[1], \"variables.\")"
   ]
  },
  {
   "cell_type": "markdown",
   "metadata": {},
   "source": [
    "Globalement, ces variables portent sur les caractéristiques bancaires des individus comme par exemple le montant de son épargne, le montant de ses crédits, le nombre de chèques émis au cours des 12 derniers mois, etc. On trouve également quelques variables plus générales comme l'âge, la situation familiale, la catégorie socioprofessionnelle, etc."
   ]
  },
  {
   "cell_type": "markdown",
   "metadata": {},
   "source": [
    "### Variables   <a class=\"anchor\" id=\"variables\"></a> \n",
    "\n",
    "Les 136 variables de la base de données ne sont pas toutes pertinentes pour répondre à la problématique de l'étude. Ainsi, il a été nécessaire de faire une selection. Après avoir préalablement réalisé quelques recherches, nous avons selectionné plusieurs variables qui nous semblaient les plus pertinentes. Ensuite,un formatage des données a été réalisé."
   ]
  },
  {
   "cell_type": "markdown",
   "metadata": {},
   "source": [
    "#### Sélection des variables   <a class=\"anchor\" id=\"vaSlection\"></a>\n",
    "\n",
    "Finalement, la base de données de l'étude est composée de 15 variables. Tout d'abord, trois variables générales sur les clients ont été retenues : l'âge, la situation familiale, la catégorie socioprofessionnelle. Les variables restantes recensent diverses informations sur les caractéristiques bancaires des clients. L'objectif était de conserver des variables permettant de distinguer les clients sur leurs revenus, leurs capacités de financements, l'épargne, et les prêts en cours.\n"
   ]
  },
  {
   "cell_type": "code",
   "execution_count": 4,
   "metadata": {},
   "outputs": [],
   "source": [
    "# Copie de la base de données dans une nouvelle variable appelée df tout en conservant l'index\n",
    "df = data.copy(deep=True)"
   ]
  },
  {
   "cell_type": "code",
   "execution_count": 5,
   "metadata": {},
   "outputs": [
    {
     "data": {
      "text/html": [
       "<div>\n",
       "<style scoped>\n",
       "    .dataframe tbody tr th:only-of-type {\n",
       "        vertical-align: middle;\n",
       "    }\n",
       "\n",
       "    .dataframe tbody tr th {\n",
       "        vertical-align: top;\n",
       "    }\n",
       "\n",
       "    .dataframe thead th {\n",
       "        text-align: right;\n",
       "    }\n",
       "</style>\n",
       "<table border=\"1\" class=\"dataframe\">\n",
       "  <thead>\n",
       "    <tr style=\"text-align: right;\">\n",
       "      <th></th>\n",
       "      <th>Groupe_CSP</th>\n",
       "      <th>Age_PP</th>\n",
       "      <th>Nouveau_Client</th>\n",
       "      <th>Sit_Fam</th>\n",
       "      <th>Filtre_exclusion</th>\n",
       "      <th>NIR_T</th>\n",
       "      <th>Dispo_Mensuel</th>\n",
       "      <th>Flux_Corr</th>\n",
       "      <th>SM_DAV_A</th>\n",
       "      <th>T_Ep_Risque</th>\n",
       "      <th>T_Ep_Taux_Fixe</th>\n",
       "      <th>T_Epar_Assur</th>\n",
       "      <th>T_P_Familiaux</th>\n",
       "      <th>Mt_Prelev_Auto</th>\n",
       "      <th>P_P_Auto</th>\n",
       "    </tr>\n",
       "    <tr>\n",
       "      <th>Numero_Client</th>\n",
       "      <th></th>\n",
       "      <th></th>\n",
       "      <th></th>\n",
       "      <th></th>\n",
       "      <th></th>\n",
       "      <th></th>\n",
       "      <th></th>\n",
       "      <th></th>\n",
       "      <th></th>\n",
       "      <th></th>\n",
       "      <th></th>\n",
       "      <th></th>\n",
       "      <th></th>\n",
       "      <th></th>\n",
       "      <th></th>\n",
       "    </tr>\n",
       "  </thead>\n",
       "  <tbody>\n",
       "    <tr>\n",
       "      <th>1</th>\n",
       "      <td>8</td>\n",
       "      <td>80</td>\n",
       "      <td>N</td>\n",
       "      <td>2</td>\n",
       "      <td>0</td>\n",
       "      <td>56</td>\n",
       "      <td>630</td>\n",
       "      <td>11746</td>\n",
       "      <td>2320</td>\n",
       "      <td>0</td>\n",
       "      <td>2049</td>\n",
       "      <td>0</td>\n",
       "      <td>0</td>\n",
       "      <td>4181</td>\n",
       "      <td>0</td>\n",
       "    </tr>\n",
       "    <tr>\n",
       "      <th>2</th>\n",
       "      <td>5</td>\n",
       "      <td>53</td>\n",
       "      <td>N</td>\n",
       "      <td>4</td>\n",
       "      <td>0</td>\n",
       "      <td>75</td>\n",
       "      <td>1149</td>\n",
       "      <td>29021</td>\n",
       "      <td>14363</td>\n",
       "      <td>0</td>\n",
       "      <td>18008</td>\n",
       "      <td>109611</td>\n",
       "      <td>0</td>\n",
       "      <td>15231</td>\n",
       "      <td>0</td>\n",
       "    </tr>\n",
       "    <tr>\n",
       "      <th>3</th>\n",
       "      <td>3</td>\n",
       "      <td>57</td>\n",
       "      <td>N</td>\n",
       "      <td>2</td>\n",
       "      <td>0</td>\n",
       "      <td>77</td>\n",
       "      <td>2780</td>\n",
       "      <td>25615</td>\n",
       "      <td>723</td>\n",
       "      <td>0</td>\n",
       "      <td>3470</td>\n",
       "      <td>1674</td>\n",
       "      <td>5000</td>\n",
       "      <td>1514</td>\n",
       "      <td>1</td>\n",
       "    </tr>\n",
       "    <tr>\n",
       "      <th>4</th>\n",
       "      <td>6</td>\n",
       "      <td>46</td>\n",
       "      <td>N</td>\n",
       "      <td>4</td>\n",
       "      <td>1</td>\n",
       "      <td>76</td>\n",
       "      <td>3044</td>\n",
       "      <td>42913</td>\n",
       "      <td>-43</td>\n",
       "      <td>0</td>\n",
       "      <td>85</td>\n",
       "      <td>28</td>\n",
       "      <td>436</td>\n",
       "      <td>5054</td>\n",
       "      <td>0</td>\n",
       "    </tr>\n",
       "    <tr>\n",
       "      <th>5</th>\n",
       "      <td>6</td>\n",
       "      <td>50</td>\n",
       "      <td>N</td>\n",
       "      <td>4</td>\n",
       "      <td>0</td>\n",
       "      <td>32</td>\n",
       "      <td>34</td>\n",
       "      <td>685</td>\n",
       "      <td>-259</td>\n",
       "      <td>0</td>\n",
       "      <td>0</td>\n",
       "      <td>0</td>\n",
       "      <td>0</td>\n",
       "      <td>272</td>\n",
       "      <td>0</td>\n",
       "    </tr>\n",
       "  </tbody>\n",
       "</table>\n",
       "</div>"
      ],
      "text/plain": [
       "               Groupe_CSP  Age_PP Nouveau_Client  Sit_Fam  Filtre_exclusion  \\\n",
       "Numero_Client                                                                 \n",
       "1                       8      80              N        2                 0   \n",
       "2                       5      53              N        4                 0   \n",
       "3                       3      57              N        2                 0   \n",
       "4                       6      46              N        4                 1   \n",
       "5                       6      50              N        4                 0   \n",
       "\n",
       "               NIR_T  Dispo_Mensuel  Flux_Corr  SM_DAV_A  T_Ep_Risque  \\\n",
       "Numero_Client                                                           \n",
       "1                 56            630      11746      2320            0   \n",
       "2                 75           1149      29021     14363            0   \n",
       "3                 77           2780      25615       723            0   \n",
       "4                 76           3044      42913       -43            0   \n",
       "5                 32             34        685      -259            0   \n",
       "\n",
       "               T_Ep_Taux_Fixe  T_Epar_Assur  T_P_Familiaux  Mt_Prelev_Auto  \\\n",
       "Numero_Client                                                                \n",
       "1                        2049             0              0            4181   \n",
       "2                       18008        109611              0           15231   \n",
       "3                        3470          1674           5000            1514   \n",
       "4                          85            28            436            5054   \n",
       "5                           0             0              0             272   \n",
       "\n",
       "               P_P_Auto  \n",
       "Numero_Client            \n",
       "1                     0  \n",
       "2                     0  \n",
       "3                     1  \n",
       "4                     0  \n",
       "5                     0  "
      ]
     },
     "execution_count": 5,
     "metadata": {},
     "output_type": "execute_result"
    }
   ],
   "source": [
    "# Création d'une variable nommée *num_col* contenant l'indice des variables selectionnées  \n",
    "num_col = [3,4,5,6,11,15,18,19,20,31,32,33,57,75,108]\n",
    "\n",
    "# Création d'un data frame contenant les variables selectionnées\n",
    "new_df = df[df.columns[num_col]]\n",
    "new_df.head()"
   ]
  },
  {
   "cell_type": "code",
   "execution_count": 6,
   "metadata": {},
   "outputs": [
    {
     "name": "stdout",
     "output_type": "stream",
     "text": [
      "La nouvelle base de données est composée de 15 variables.\n"
     ]
    }
   ],
   "source": [
    "# On vérifie les dimensions de la nouvelle base de données\n",
    "print(\"La nouvelle base de données est composée de\", new_df.shape[1], \"variables.\")"
   ]
  },
  {
   "cell_type": "markdown",
   "metadata": {},
   "source": [
    "#### Formatage des variables <a class=\"anchor\" id=\"vaFormatage\"></a>\n",
    "\n",
    "À la suite de la selection des variables, il faut vérifier que le format de ces variables est correct (entier, catégorielle, float).  "
   ]
  },
  {
   "cell_type": "code",
   "execution_count": 7,
   "metadata": {},
   "outputs": [
    {
     "data": {
      "text/plain": [
       "int64     14\n",
       "object     1\n",
       "dtype: int64"
      ]
     },
     "execution_count": 7,
     "metadata": {},
     "output_type": "execute_result"
    }
   ],
   "source": [
    "# Compte le nombre de variables en fonction de son type\n",
    "new_df.dtypes.value_counts()"
   ]
  },
  {
   "cell_type": "markdown",
   "metadata": {},
   "source": [
    "On constaste que 14 variables sont au format numériques (int64) et 1 au format objet. Ainsi, 5 variables ont un mauvais format. iL est nécessaire donc de définir ces variables dans le bon format. Tout d'abord, il faut transformer la variables ***Nouveau_Client*** au format numérique."
   ]
  },
  {
   "cell_type": "code",
   "execution_count": 8,
   "metadata": {},
   "outputs": [
    {
     "data": {
      "text/html": [
       "<div>\n",
       "<style scoped>\n",
       "    .dataframe tbody tr th:only-of-type {\n",
       "        vertical-align: middle;\n",
       "    }\n",
       "\n",
       "    .dataframe tbody tr th {\n",
       "        vertical-align: top;\n",
       "    }\n",
       "\n",
       "    .dataframe thead th {\n",
       "        text-align: right;\n",
       "    }\n",
       "</style>\n",
       "<table border=\"1\" class=\"dataframe\">\n",
       "  <thead>\n",
       "    <tr style=\"text-align: right;\">\n",
       "      <th></th>\n",
       "      <th>Groupe_CSP</th>\n",
       "      <th>Age_PP</th>\n",
       "      <th>Nouveau_Client</th>\n",
       "      <th>Sit_Fam</th>\n",
       "      <th>Filtre_exclusion</th>\n",
       "      <th>NIR_T</th>\n",
       "      <th>Dispo_Mensuel</th>\n",
       "      <th>Flux_Corr</th>\n",
       "      <th>SM_DAV_A</th>\n",
       "      <th>T_Ep_Risque</th>\n",
       "      <th>T_Ep_Taux_Fixe</th>\n",
       "      <th>T_Epar_Assur</th>\n",
       "      <th>T_P_Familiaux</th>\n",
       "      <th>Mt_Prelev_Auto</th>\n",
       "      <th>P_P_Auto</th>\n",
       "    </tr>\n",
       "    <tr>\n",
       "      <th>Numero_Client</th>\n",
       "      <th></th>\n",
       "      <th></th>\n",
       "      <th></th>\n",
       "      <th></th>\n",
       "      <th></th>\n",
       "      <th></th>\n",
       "      <th></th>\n",
       "      <th></th>\n",
       "      <th></th>\n",
       "      <th></th>\n",
       "      <th></th>\n",
       "      <th></th>\n",
       "      <th></th>\n",
       "      <th></th>\n",
       "      <th></th>\n",
       "    </tr>\n",
       "  </thead>\n",
       "  <tbody>\n",
       "    <tr>\n",
       "      <th>1</th>\n",
       "      <td>8</td>\n",
       "      <td>80</td>\n",
       "      <td>0</td>\n",
       "      <td>2</td>\n",
       "      <td>0</td>\n",
       "      <td>56</td>\n",
       "      <td>630</td>\n",
       "      <td>11746</td>\n",
       "      <td>2320</td>\n",
       "      <td>0</td>\n",
       "      <td>2049</td>\n",
       "      <td>0</td>\n",
       "      <td>0</td>\n",
       "      <td>4181</td>\n",
       "      <td>0</td>\n",
       "    </tr>\n",
       "    <tr>\n",
       "      <th>2</th>\n",
       "      <td>5</td>\n",
       "      <td>53</td>\n",
       "      <td>0</td>\n",
       "      <td>4</td>\n",
       "      <td>0</td>\n",
       "      <td>75</td>\n",
       "      <td>1149</td>\n",
       "      <td>29021</td>\n",
       "      <td>14363</td>\n",
       "      <td>0</td>\n",
       "      <td>18008</td>\n",
       "      <td>109611</td>\n",
       "      <td>0</td>\n",
       "      <td>15231</td>\n",
       "      <td>0</td>\n",
       "    </tr>\n",
       "    <tr>\n",
       "      <th>3</th>\n",
       "      <td>3</td>\n",
       "      <td>57</td>\n",
       "      <td>0</td>\n",
       "      <td>2</td>\n",
       "      <td>0</td>\n",
       "      <td>77</td>\n",
       "      <td>2780</td>\n",
       "      <td>25615</td>\n",
       "      <td>723</td>\n",
       "      <td>0</td>\n",
       "      <td>3470</td>\n",
       "      <td>1674</td>\n",
       "      <td>5000</td>\n",
       "      <td>1514</td>\n",
       "      <td>1</td>\n",
       "    </tr>\n",
       "    <tr>\n",
       "      <th>4</th>\n",
       "      <td>6</td>\n",
       "      <td>46</td>\n",
       "      <td>0</td>\n",
       "      <td>4</td>\n",
       "      <td>1</td>\n",
       "      <td>76</td>\n",
       "      <td>3044</td>\n",
       "      <td>42913</td>\n",
       "      <td>-43</td>\n",
       "      <td>0</td>\n",
       "      <td>85</td>\n",
       "      <td>28</td>\n",
       "      <td>436</td>\n",
       "      <td>5054</td>\n",
       "      <td>0</td>\n",
       "    </tr>\n",
       "    <tr>\n",
       "      <th>5</th>\n",
       "      <td>6</td>\n",
       "      <td>50</td>\n",
       "      <td>0</td>\n",
       "      <td>4</td>\n",
       "      <td>0</td>\n",
       "      <td>32</td>\n",
       "      <td>34</td>\n",
       "      <td>685</td>\n",
       "      <td>-259</td>\n",
       "      <td>0</td>\n",
       "      <td>0</td>\n",
       "      <td>0</td>\n",
       "      <td>0</td>\n",
       "      <td>272</td>\n",
       "      <td>0</td>\n",
       "    </tr>\n",
       "  </tbody>\n",
       "</table>\n",
       "</div>"
      ],
      "text/plain": [
       "               Groupe_CSP  Age_PP  Nouveau_Client  Sit_Fam  Filtre_exclusion  \\\n",
       "Numero_Client                                                                  \n",
       "1                       8      80               0        2                 0   \n",
       "2                       5      53               0        4                 0   \n",
       "3                       3      57               0        2                 0   \n",
       "4                       6      46               0        4                 1   \n",
       "5                       6      50               0        4                 0   \n",
       "\n",
       "               NIR_T  Dispo_Mensuel  Flux_Corr  SM_DAV_A  T_Ep_Risque  \\\n",
       "Numero_Client                                                           \n",
       "1                 56            630      11746      2320            0   \n",
       "2                 75           1149      29021     14363            0   \n",
       "3                 77           2780      25615       723            0   \n",
       "4                 76           3044      42913       -43            0   \n",
       "5                 32             34        685      -259            0   \n",
       "\n",
       "               T_Ep_Taux_Fixe  T_Epar_Assur  T_P_Familiaux  Mt_Prelev_Auto  \\\n",
       "Numero_Client                                                                \n",
       "1                        2049             0              0            4181   \n",
       "2                       18008        109611              0           15231   \n",
       "3                        3470          1674           5000            1514   \n",
       "4                          85            28            436            5054   \n",
       "5                           0             0              0             272   \n",
       "\n",
       "               P_P_Auto  \n",
       "Numero_Client            \n",
       "1                     0  \n",
       "2                     0  \n",
       "3                     1  \n",
       "4                     0  \n",
       "5                     0  "
      ]
     },
     "execution_count": 8,
     "metadata": {},
     "output_type": "execute_result"
    }
   ],
   "source": [
    "# On  transforme \"Nouveau_Client\" en numérique / (Nous avons garder la bouble dans un souci de réproductibilité)\n",
    "col = [\"Nouveau_Client\"]\n",
    "for i in col:\n",
    "    new_df[i] = preprocessing.LabelEncoder().fit_transform(new_df[i])\n",
    "\n",
    "# La modalité O à été remplacée par 1 et la modalité N par 0\n",
    "new_df.head()"
   ]
  },
  {
   "cell_type": "markdown",
   "metadata": {},
   "source": [
    "Ensuite, il s'agit de transformer les variables ***Nouveau_Client***, ***Groupe_CSP**, ***Sit_Fam***, ***Filtre_exclusion*** et ***P_P_Auto*** en variables catégorielles."
   ]
  },
  {
   "cell_type": "code",
   "execution_count": 9,
   "metadata": {},
   "outputs": [
    {
     "data": {
      "text/plain": [
       "int64       10\n",
       "category     3\n",
       "category     1\n",
       "category     1\n",
       "dtype: int64"
      ]
     },
     "execution_count": 9,
     "metadata": {},
     "output_type": "execute_result"
    }
   ],
   "source": [
    "# Transformation en variables catégorielles \n",
    "col = [\"Nouveau_Client\",\"Groupe_CSP\",\"Sit_Fam\",\"Filtre_exclusion\",\"P_P_Auto\"]\n",
    "for i in col:\n",
    "    new_df[i] = new_df[i].astype('category')\n",
    "\n",
    "# Vérification que les transformations ont été effectuées\n",
    "new_df.dtypes.value_counts()"
   ]
  },
  {
   "cell_type": "markdown",
   "metadata": {},
   "source": [
    "### Sélection des individus <a class=\"anchor\" id=\"selectInd\"></a> \n",
    "Dans cette section, il s'agit de supprimer de la base de données les individus qui ne seraient par défaut pas éligibles au prêt automobile. Par conséquent, les clients potentiellement bancairement risqués ont été enlevés (***Filtre_exclusion*** == 1). De plus, les indiivuds appartenant à la catégorie socioprofessionnelle 8, i.e. les inactifs, ont enlevés puisqu'elle est composée d'individus sans revenus. "
   ]
  },
  {
   "cell_type": "code",
   "execution_count": 10,
   "metadata": {},
   "outputs": [
    {
     "name": "stdout",
     "output_type": "stream",
     "text": [
      "La base de données intiale est composée de 43957 individus.\n",
      "Après avoir enlever les individus bancairement risqués et les inactifs, il reste 30607 individus.\n"
     ]
    }
   ],
   "source": [
    "# Création d'une copie de new_df\n",
    "df_ind = new_df.copy(deep=True)\n",
    "\n",
    "# Nombre d'individus dans la base de données initiale\n",
    "print(\"La base de données intiale est composée de\", len(new_df), \"individus.\")\n",
    "\n",
    "# Filtre dans un premier temps sur les clients risqués et les inactifs\n",
    "df_ind = df_ind.loc[(df_ind['Filtre_exclusion']==0) & (df_ind['Groupe_CSP']!=8),: ]\n",
    "print(\"Après avoir enlever les individus bancairement risqués et les inactifs, il reste\", df_ind.shape[0], \"individus.\")"
   ]
  },
  {
   "cell_type": "markdown",
   "metadata": {},
   "source": [
    "On constate également que les variables **catégorie socioprofessionnelle** et **situation familiale** possèdent des valeurs manquantes. En effet, il n'existe pas de modalités égale à 0 pour ces deux variables. Le même constat peut être fait pour la variable **âge** puisque certains indidivus ont un âge égal à 0 ce qui est impossible (confirmé également avec le lexique des données puisqu'il indique que l'âge est supérieur à 0). Lorsqu'on regarde de plus près ces individus, on constate que fréquement ces valeurs sont manquantes simultanément. 835 individus sont concernés par une donnée manquante dans au moins une de ces variables, ce qui représente 2.7% des individus totaux. Ainsi, il a été décidé d'enlever ces individus de la base de données."
   ]
  },
  {
   "cell_type": "code",
   "execution_count": 11,
   "metadata": {},
   "outputs": [
    {
     "name": "stdout",
     "output_type": "stream",
     "text": [
      "Après le filtre, il reste 29772 individus.\n"
     ]
    }
   ],
   "source": [
    "# Filtre sur groupe CSP puisqu'en filtrant avec cette condition l'ensemble des individus concernés sont supprimés\n",
    "drop_index = df_ind.loc[df_ind[\"Groupe_CSP\"]== 0,:].index\n",
    "df_ind.drop(drop_index,inplace=True)\n",
    "\n",
    "print(\"Après le filtre, il reste\", df_ind.shape[0], \"individus.\")"
   ]
  },
  {
   "cell_type": "markdown",
   "metadata": {},
   "source": [
    "Enfin, un dernier filtre a été appliqué sur les individus. En effet, les clients de plus de 70 ans ont été enlevés de la base de données puisqu'après un certains âge, les banques deviennent réticentes pour accorder des prêts. En effet, il y a un risque plus important de problème de santé, de décès ou la reduction des revenus lors du passage à la retraite pour ces clients."
   ]
  },
  {
   "cell_type": "code",
   "execution_count": 12,
   "metadata": {},
   "outputs": [
    {
     "name": "stdout",
     "output_type": "stream",
     "text": [
      "Après le filtre, il reste 25324 individus.\n"
     ]
    }
   ],
   "source": [
    "# Filtre sur clients qui sont agés de plus de 70 ans\n",
    "df_ind.drop(df_ind.loc[df_ind[\"Age_PP\"]>70,:].index,inplace=True)\n",
    "print(\"Après le filtre, il reste\", df_ind.shape[0], \"individus.\")"
   ]
  },
  {
   "cell_type": "code",
   "execution_count": 13,
   "metadata": {},
   "outputs": [
    {
     "name": "stdout",
     "output_type": "stream",
     "text": [
      "In fine, la base de données utilisée pour construire le modèle est composée de 25324 individus et de 14 variables.\n"
     ]
    }
   ],
   "source": [
    "# Suppresion de la variable \"Filtre_exclusion\" qui n'est plus utile\n",
    "df_ind.drop(\"Filtre_exclusion\", axis = 1, inplace = True)\n",
    "print(\"In fine, la base de données utilisée pour construire le modèle est composée de\", df_ind.shape[0], \"individus et de\", df_ind.shape[1], \"variables.\") "
   ]
  },
  {
   "cell_type": "markdown",
   "metadata": {},
   "source": [
    "## Statistiques descriptives : analyse univariée et bivariée <a class=\"anchor\" id=\"statsDesc\"></a> \n",
    "\n",
    "Dans un premier temps, nous analyserons les différentes corrélations entre les variables choisies  puis nous étudierons les relations des variables retenues avec la variable cible (**\"P_P_Auto\"**).  \n",
    "Tout d'abord, globalement les corrélations entre les variables retenues ne sont pas explosives hormis les disponibilités mensuelles et les flux corrigés qui entretiennent un lien de l'ordre de 0.8. Nous sommes donc quasiment à l'abri d'éventuels problèmes d'**overfitting.**.\n",
    "En ce qui concerne la répartition de la variable cible **P_P_Auto**, sur les 25324 individus retenus, 84.3 % n'ont aucun crédit automobile en cours contre seulement 15.7 % qui ont crédit automobile en cours. \n",
    "\n",
    "Nous allons à présent diagnostiquer les variables qui distinguent statististiquement les individus qui ont un prêt automobile en cours contre ceux qui n'en possèdent pas. En effet, les individus qui possèdent un crédit automobile en cours et ceux qui n'en possèdent pas se distinguent clairement sur l'ensemble des variables quantitatives **(Age,NIR_T,Dispo_Mensuel,T_Ep_Risque,T_Epar_Assur,T_P_Familiaux,etc)** sauf sur le montant des **prélèvement automatiques (MT_prelev_Auto)**. Ainsi, les prélèvements automatiques ne sont pas discriminants pour l'octroi d'un crédit automobile.  \n",
    "Par ailleurs, parmi ceux qui ont un prêt automobile, 37.5 % sont des ouvriers et 30.2 % sont des employés. Les agriculteurs sont ceux qui empruntent le moins. 50% des personnes ayant un crédit automobile en cours sont mariés suivi des célibatires (26%). "
   ]
  },
  {
   "cell_type": "code",
   "execution_count": 14,
   "metadata": {},
   "outputs": [
    {
     "data": {
      "text/plain": [
       "<seaborn.matrix.ClusterGrid at 0x17950b57ca0>"
      ]
     },
     "execution_count": 14,
     "metadata": {},
     "output_type": "execute_result"
    },
    {
     "data": {
      "image/png": "[encoded data removed]",
      "text/plain": [
       "<Figure size 720x720 with 4 Axes>"
      ]
     },
     "metadata": {
      "needs_background": "light"
     },
     "output_type": "display_data"
    }
   ],
   "source": [
    "# Analyse des corrélations\n",
    "sns.clustermap(df_ind.select_dtypes(\"int64\").corr())"
   ]
  },
  {
   "cell_type": "code",
   "execution_count": 15,
   "metadata": {},
   "outputs": [
    {
     "name": "stdout",
     "output_type": "stream",
     "text": [
      "Il y a 84.3 % de clients qui ont déjà un prêt automobile et 15.7 % n'en ont pas.\n"
     ]
    }
   ],
   "source": [
    "# Création de deux variables : l'une contenant les individus n'ayant pas de prêt automobile et une seconde contenant \n",
    "# les individus ayant un prêt automobile\n",
    "df_oui = df_ind[df_ind[\"P_P_Auto\"]==1]\n",
    "df_non = df_ind[df_ind[\"P_P_Auto\"]==0]\n",
    "\n",
    "# Obtenir les proportion par modalité\n",
    "print(\"Il y a\", round(df_ind[\"P_P_Auto\"].value_counts(normalize=True)[0]*100, 1), \"% de clients qui ont déjà un prêt automobile et\", round(df_ind[\"P_P_Auto\"].value_counts(normalize=True)[1]*100, 1), \"% n'en ont pas.\")"
   ]
  },
  {
   "cell_type": "code",
   "execution_count": 16,
   "metadata": {},
   "outputs": [
    {
     "data": {
      "text/plain": [
       "<AxesSubplot:xlabel='P_P_Auto', ylabel='count'>"
      ]
     },
     "execution_count": 16,
     "metadata": {},
     "output_type": "execute_result"
    },
    {
     "data": {
      "image/png": "[encoded data removed]",
      "text/plain": [
       "<Figure size 432x288 with 1 Axes>"
      ]
     },
     "metadata": {
      "needs_background": "light"
     },
     "output_type": "display_data"
    }
   ],
   "source": [
    "## Graphiquement\n",
    "sns.countplot(x=\"P_P_Auto\",data=df_ind)"
   ]
  },
  {
   "cell_type": "code",
   "execution_count": 17,
   "metadata": {},
   "outputs": [
    {
     "data": {
      "image/png": "[encoded data removed]",
      "text/plain": [
       "<Figure size 432x288 with 1 Axes>"
      ]
     },
     "metadata": {
      "needs_background": "light"
     },
     "output_type": "display_data"
    },
    {
     "data": {
      "image/png": "[encoded data removed]",
      "text/plain": [
       "<Figure size 432x288 with 1 Axes>"
      ]
     },
     "metadata": {
      "needs_background": "light"
     },
     "output_type": "display_data"
    },
    {
     "data": {
      "image/png": "[encoded data removed]",
      "text/plain": [
       "<Figure size 432x288 with 1 Axes>"
      ]
     },
     "metadata": {
      "needs_background": "light"
     },
     "output_type": "display_data"
    },
    {
     "data": {
      "image/png": "[encoded data removed]",
      "text/plain": [
       "<Figure size 432x288 with 1 Axes>"
      ]
     },
     "metadata": {
      "needs_background": "light"
     },
     "output_type": "display_data"
    },
    {
     "data": {
      "image/png": "[encoded data removed]",
      "text/plain": [
       "<Figure size 432x288 with 1 Axes>"
      ]
     },
     "metadata": {
      "needs_background": "light"
     },
     "output_type": "display_data"
    },
    {
     "data": {
      "image/png": "[encoded data removed]",
      "text/plain": [
       "<Figure size 432x288 with 1 Axes>"
      ]
     },
     "metadata": {
      "needs_background": "light"
     },
     "output_type": "display_data"
    },
    {
     "data": {
      "image/png": "[encoded data removed]",
      "text/plain": [
       "<Figure size 432x288 with 1 Axes>"
      ]
     },
     "metadata": {
      "needs_background": "light"
     },
     "output_type": "display_data"
    },
    {
     "data": {
      "image/png": "[encoded data removed]",
      "text/plain": [
       "<Figure size 432x288 with 1 Axes>"
      ]
     },
     "metadata": {
      "needs_background": "light"
     },
     "output_type": "display_data"
    },
    {
     "data": {
      "image/png": "[encoded data removed]",
      "text/plain": [
       "<Figure size 432x288 with 1 Axes>"
      ]
     },
     "metadata": {
      "needs_background": "light"
     },
     "output_type": "display_data"
    },
    {
     "data": {
      "image/png": "[encoded data removed]",
      "text/plain": [
       "<Figure size 432x288 with 1 Axes>"
      ]
     },
     "metadata": {
      "needs_background": "light"
     },
     "output_type": "display_data"
    }
   ],
   "source": [
    "# Courbes de distribution des variables quantitatives\n",
    "for col in df_ind.select_dtypes('int64'):\n",
    "    plt.figure()\n",
    "    sns.distplot(df_oui[col], label=\"oui\")\n",
    "    sns.distplot(df_non[col], label=\"non\")\n",
    "    plt.legend()"
   ]
  },
  {
   "cell_type": "code",
   "execution_count": 18,
   "metadata": {},
   "outputs": [
    {
     "name": "stdout",
     "output_type": "stream",
     "text": [
      "(3973, 14)\n",
      "(21351, 14)\n"
     ]
    }
   ],
   "source": [
    "#taille des échantillons\n",
    "print(df_oui.shape)\n",
    "print(df_non.shape)"
   ]
  },
  {
   "cell_type": "code",
   "execution_count": 19,
   "metadata": {},
   "outputs": [
    {
     "name": "stdout",
     "output_type": "stream",
     "text": [
      "Age_PP-------------------------------------------- H0 rejetée\n",
      "NIR_T--------------------------------------------- H0 rejetée\n",
      "Dispo_Mensuel------------------------------------- H0 rejetée\n",
      "Flux_Corr----------------------------------------- H0 rejetée\n",
      "SM_DAV_A------------------------------------------ H0 rejetée\n",
      "T_Ep_Risque--------------------------------------- H0 rejetée\n",
      "T_Ep_Taux_Fixe------------------------------------ H0 rejetée\n",
      "T_Epar_Assur-------------------------------------- H0 rejetée\n",
      "T_P_Familiaux------------------------------------- H0 rejetée\n",
      "Mt_Prelev_Auto------------------------------------ H0 acceptée\n"
     ]
    }
   ],
   "source": [
    "# Création d'un échantillon équivalent équilibré\n",
    "df_non_test = df_non.sample(3973)\n",
    "\n",
    "\n",
    "# test de student\n",
    "def ttest(col):\n",
    "    alpha = 0.05\n",
    "    stat, p = ttest_ind(df_non_test[col], df_oui[col])\n",
    "    if p < alpha:\n",
    "        return \"H0 rejetée\"\n",
    "    else:\n",
    "        return \"H0 acceptée\"\n",
    "\n",
    "for col in df_ind.select_dtypes(\"int64\"):\n",
    "    print(f'{col:-<50} {ttest(col)}') "
   ]
  },
  {
   "cell_type": "code",
   "execution_count": 20,
   "metadata": {},
   "outputs": [
    {
     "data": {
      "image/png": "[encoded data removed]",
      "text/plain": [
       "<Figure size 432x288 with 2 Axes>"
      ]
     },
     "metadata": {
      "needs_background": "light"
     },
     "output_type": "display_data"
    },
    {
     "data": {
      "image/png": "[encoded data removed]",
      "text/plain": [
       "<Figure size 432x288 with 2 Axes>"
      ]
     },
     "metadata": {
      "needs_background": "light"
     },
     "output_type": "display_data"
    },
    {
     "data": {
      "image/png": "[encoded data removed]",
      "text/plain": [
       "<Figure size 432x288 with 2 Axes>"
      ]
     },
     "metadata": {
      "needs_background": "light"
     },
     "output_type": "display_data"
    },
    {
     "data": {
      "image/png": "[encoded data removed]",
      "text/plain": [
       "<Figure size 432x288 with 2 Axes>"
      ]
     },
     "metadata": {
      "needs_background": "light"
     },
     "output_type": "display_data"
    }
   ],
   "source": [
    "# Proportion des variables catégorielles en fonction de la variable cible.\n",
    "for col in df_ind.select_dtypes('category'):\n",
    "    plt.figure()\n",
    "    sns.heatmap(pd.crosstab(df_ind[\"P_P_Auto\"], df_ind[col],normalize='index'), annot=True, fmt='.3f')"
   ]
  },
  {
   "cell_type": "markdown",
   "metadata": {},
   "source": [
    "## Modélisation <a class=\"anchor\" id=\"modelisation\"></a> \n",
    "\n",
    "Dans cette partie, l'objectif est de trouver le meilleur modèle possible pour déterminer la varibale **P_P_Auto**."
   ]
  },
  {
   "cell_type": "code",
   "execution_count": 21,
   "metadata": {},
   "outputs": [],
   "source": [
    "# Création des variables x et y\n",
    "x = df_ind.drop(\"P_P_Auto\",axis=1)\n",
    "y = df_ind[\"P_P_Auto\"]\n",
    "\n",
    "# Création des variables train et test\n",
    "x_train, x_test, y_train, y_test = train_test_split(x, y, test_size = 0.2, random_state=100, stratify = y)"
   ]
  },
  {
   "cell_type": "markdown",
   "metadata": {},
   "source": [
    "### Régression logistique <a class=\"anchor\" id=\"RegLog\"></a> \n",
    "\n",
    "La première méthode de modélisation utilisée est la régression logistique.\n",
    "\n",
    "On constate que le taux de bonne classification du modèle par régression logitistique est égal à 84.2%. Dans 84.3% des cas, le classifieur donne la valeur 0 quand la valeur réelle est 0 et dans 36.3% des cas, il donne la valeur 1 quand la valeur réelle est 1 (précision). Dans 99.8% des cas, le classifieur donne la bonne valeur de 0. A contrario, le classifieur donne la bonne valeur de 1 dans 0.05%. Le modèle n'est pas robuste puisqu'il se trompe beaucoup sur 1 (recall)."
   ]
  },
  {
   "cell_type": "code",
   "execution_count": 38,
   "metadata": {},
   "outputs": [
    {
     "name": "stdout",
     "output_type": "stream",
     "text": [
      "0.8424481737413623\n",
      "              precision    recall  f1-score   support\n",
      "\n",
      "           0     0.8435    0.9984    0.9144      4270\n",
      "           1     0.3636    0.0050    0.0099       795\n",
      "\n",
      "    accuracy                         0.8424      5065\n",
      "   macro avg     0.6036    0.5017    0.4622      5065\n",
      "weighted avg     0.7682    0.8424    0.7724      5065\n",
      "\n"
     ]
    },
    {
     "data": {
      "text/html": [
       "<div>\n",
       "<style scoped>\n",
       "    .dataframe tbody tr th:only-of-type {\n",
       "        vertical-align: middle;\n",
       "    }\n",
       "\n",
       "    .dataframe tbody tr th {\n",
       "        vertical-align: top;\n",
       "    }\n",
       "\n",
       "    .dataframe thead th {\n",
       "        text-align: right;\n",
       "    }\n",
       "</style>\n",
       "<table border=\"1\" class=\"dataframe\">\n",
       "  <thead>\n",
       "    <tr style=\"text-align: right;\">\n",
       "      <th>col_0</th>\n",
       "      <th>0</th>\n",
       "      <th>1</th>\n",
       "    </tr>\n",
       "    <tr>\n",
       "      <th>P_P_Auto</th>\n",
       "      <th></th>\n",
       "      <th></th>\n",
       "    </tr>\n",
       "  </thead>\n",
       "  <tbody>\n",
       "    <tr>\n",
       "      <th>0</th>\n",
       "      <td>4263</td>\n",
       "      <td>7</td>\n",
       "    </tr>\n",
       "    <tr>\n",
       "      <th>1</th>\n",
       "      <td>791</td>\n",
       "      <td>4</td>\n",
       "    </tr>\n",
       "  </tbody>\n",
       "</table>\n",
       "</div>"
      ],
      "text/plain": [
       "col_0        0  1\n",
       "P_P_Auto         \n",
       "0         4263  7\n",
       "1          791  4"
      ]
     },
     "execution_count": 38,
     "metadata": {},
     "output_type": "execute_result"
    }
   ],
   "source": [
    "# Régression logistique\n",
    "lr = LogisticRegression(random_state=1)\n",
    "lr.fit(x_train,y_train)\n",
    "y_pred = lr.predict(x_test)\n",
    "print(lr.score(x_test, y_test))\n",
    "print(classification_report(y_test, y_pred, digits=4))\n",
    "pd.crosstab(y_test, y_pred)"
   ]
  },
  {
   "cell_type": "markdown",
   "metadata": {},
   "source": [
    "#### Régression logistique équilibrée  <a class=\"anchor\" id=\"RegLogEqui\"></a> "
   ]
  },
  {
   "cell_type": "markdown",
   "metadata": {},
   "source": [
    "On constate que le taux de bonne classification du modèle par régression logitistique est égal à 58.53%. Ce modèle est donc moins robuste que le modèle de régression logistique non équilibrée. Toutefois, on constate qu'il est plus robuste pour détecter les vrais négatifs mais perd en précision pour détecter les vais positifs. En effet, dans 94.3% des cas, le classifieur donne la valeur 0 quand la valeur réelle est 0 et dans 25.05% des cas il donne la valeur 1 quand la valeur réelle est 1 (précision). Dans 54.10% des cas, le classifieur donne la bonne valeur de 0. A contrario, le classifieur donne la bonne valeur de 1 dans 82.39% (recall)."
   ]
  },
  {
   "cell_type": "code",
   "execution_count": 24,
   "metadata": {
    "scrolled": false
   },
   "outputs": [
    {
     "name": "stdout",
     "output_type": "stream",
     "text": [
      "0.5853899308983218\n",
      "              precision    recall  f1-score   support\n",
      "\n",
      "           0     0.9429    0.5410    0.6875      4270\n",
      "           1     0.2505    0.8239    0.3842       795\n",
      "\n",
      "    accuracy                         0.5854      5065\n",
      "   macro avg     0.5967    0.6824    0.5358      5065\n",
      "weighted avg     0.8342    0.5854    0.6399      5065\n",
      "\n"
     ]
    },
    {
     "data": {
      "text/html": [
       "<div>\n",
       "<style scoped>\n",
       "    .dataframe tbody tr th:only-of-type {\n",
       "        vertical-align: middle;\n",
       "    }\n",
       "\n",
       "    .dataframe tbody tr th {\n",
       "        vertical-align: top;\n",
       "    }\n",
       "\n",
       "    .dataframe thead th {\n",
       "        text-align: right;\n",
       "    }\n",
       "</style>\n",
       "<table border=\"1\" class=\"dataframe\">\n",
       "  <thead>\n",
       "    <tr style=\"text-align: right;\">\n",
       "      <th>col_0</th>\n",
       "      <th>0</th>\n",
       "      <th>1</th>\n",
       "    </tr>\n",
       "    <tr>\n",
       "      <th>P_P_Auto</th>\n",
       "      <th></th>\n",
       "      <th></th>\n",
       "    </tr>\n",
       "  </thead>\n",
       "  <tbody>\n",
       "    <tr>\n",
       "      <th>0</th>\n",
       "      <td>2310</td>\n",
       "      <td>1960</td>\n",
       "    </tr>\n",
       "    <tr>\n",
       "      <th>1</th>\n",
       "      <td>140</td>\n",
       "      <td>655</td>\n",
       "    </tr>\n",
       "  </tbody>\n",
       "</table>\n",
       "</div>"
      ],
      "text/plain": [
       "col_0        0     1\n",
       "P_P_Auto            \n",
       "0         2310  1960\n",
       "1          140   655"
      ]
     },
     "execution_count": 24,
     "metadata": {},
     "output_type": "execute_result"
    }
   ],
   "source": [
    "## Régression équilibrée\n",
    "lrEquilibree = LogisticRegression(random_state=1, class_weight='balanced')\n",
    "lrEquilibree.fit(x_train,y_train)\n",
    "y_pred_EquiRg = lrEquilibree.predict(x_test)\n",
    "print(lrEquilibree.score(x_test, y_test))\n",
    "\n",
    "print(classification_report(y_test, y_pred_EquiRg, digits=4))\n",
    "pd.crosstab(y_test, y_pred_EquiRg)"
   ]
  },
  {
   "cell_type": "markdown",
   "metadata": {},
   "source": [
    "#### Régression logistique sur échantillon manuellement équilibré <a class=\"anchor\" id=\"RegLogEquiMan\"></a> "
   ]
  },
  {
   "cell_type": "markdown",
   "metadata": {},
   "source": [
    "Pour obtenir exactement la même répartition entre ceux qui ont un crédit en cours et ceux qui n'en ont pas, nous faisons un tirage aléatoire de 3973 individus parmi ceux qui n'ont pas de crédit en cours. Ce chiffre représente le total des individus qui ont un crédit en cours. Ainsi, une nouvelle base de données est créée. Cette dernière est composée de 7846 clients dont 50% ont un crédit automobile en cours et l'autre moitié n'en a pas. Cela a pour objetcif d'améliorer la précision de notre modèle sur la selection des clients qui ont un prêt automobile."
   ]
  },
  {
   "cell_type": "code",
   "execution_count": 30,
   "metadata": {},
   "outputs": [
    {
     "data": {
      "text/plain": [
       "1    3973\n",
       "0    3973\n",
       "Name: P_P_Auto, dtype: int64"
      ]
     },
     "execution_count": 30,
     "metadata": {},
     "output_type": "execute_result"
    }
   ],
   "source": [
    "# Echantillon equilibré à la main\n",
    "df_ind_0 = df_ind[df_ind[\"P_P_Auto\"]==0].sample(n=3973, replace=False)\n",
    "df_ind_equi = pd.concat([df_ind_0, df_ind[df_ind[\"P_P_Auto\"]==1]])\n",
    "\n",
    "# Vérification que l'échantillon est équilibré\n",
    "df_ind_equi[\"P_P_Auto\"].value_counts()"
   ]
  },
  {
   "cell_type": "code",
   "execution_count": 31,
   "metadata": {
    "scrolled": true
   },
   "outputs": [
    {
     "name": "stdout",
     "output_type": "stream",
     "text": [
      "0.6735849056603773\n",
      "              precision    recall  f1-score   support\n",
      "\n",
      "           0     0.7491    0.5096    0.6065       785\n",
      "           1     0.6354    0.8335    0.7211       805\n",
      "\n",
      "    accuracy                         0.6736      1590\n",
      "   macro avg     0.6922    0.6715    0.6638      1590\n",
      "weighted avg     0.6915    0.6736    0.6645      1590\n",
      "\n"
     ]
    },
    {
     "data": {
      "text/html": [
       "<div>\n",
       "<style scoped>\n",
       "    .dataframe tbody tr th:only-of-type {\n",
       "        vertical-align: middle;\n",
       "    }\n",
       "\n",
       "    .dataframe tbody tr th {\n",
       "        vertical-align: top;\n",
       "    }\n",
       "\n",
       "    .dataframe thead th {\n",
       "        text-align: right;\n",
       "    }\n",
       "</style>\n",
       "<table border=\"1\" class=\"dataframe\">\n",
       "  <thead>\n",
       "    <tr style=\"text-align: right;\">\n",
       "      <th>col_0</th>\n",
       "      <th>0</th>\n",
       "      <th>1</th>\n",
       "    </tr>\n",
       "    <tr>\n",
       "      <th>P_P_Auto</th>\n",
       "      <th></th>\n",
       "      <th></th>\n",
       "    </tr>\n",
       "  </thead>\n",
       "  <tbody>\n",
       "    <tr>\n",
       "      <th>0</th>\n",
       "      <td>400</td>\n",
       "      <td>385</td>\n",
       "    </tr>\n",
       "    <tr>\n",
       "      <th>1</th>\n",
       "      <td>134</td>\n",
       "      <td>671</td>\n",
       "    </tr>\n",
       "  </tbody>\n",
       "</table>\n",
       "</div>"
      ],
      "text/plain": [
       "col_0       0    1\n",
       "P_P_Auto          \n",
       "0         400  385\n",
       "1         134  671"
      ]
     },
     "execution_count": 31,
     "metadata": {},
     "output_type": "execute_result"
    }
   ],
   "source": [
    "# Création de nouvelles variables d'entrainement et de test x2 et y2\n",
    "x2 = df_ind_equi.drop(\"P_P_Auto\", axis=1)\n",
    "y2 = df_ind_equi['P_P_Auto']\n",
    "x2_train, x2_test, y2_train, y2_test = train_test_split(x2, y2, test_size=0.2, random_state=1)\n",
    "\n",
    "# Nouvelle régression logistiques avec les nouvelles variables\n",
    "lrEqMan = LogisticRegression()\n",
    "lrEqMan.fit(x2_train, y2_train)\n",
    "y2_pred = lrEqMan.predict(x2_test)\n",
    "print(lrEqMan.score(x2_test, y2_test))\n",
    "\n",
    "print(classification_report(y2_test, y2_pred, digits=4))\n",
    "pd.crosstab(y2_test, y2_pred)"
   ]
  },
  {
   "cell_type": "markdown",
   "metadata": {},
   "source": [
    "La perfomance de ce modèle est mieux que celle de la régréssion logistique équilibrée. En effet, malgré une perte de précision sur la détection des vrais positifs (74.91% contre 94.29% avec le modèle précédent), ce modèle s'avère avoir une meilleure détection des vrais négatifs (63.54% contre 25.05% avec le modèle précédent)."
   ]
  },
  {
   "cell_type": "markdown",
   "metadata": {},
   "source": [
    "#### Régréssion logistique par validation croisée <a class=\"anchor\" id=\"RegLogVa\"></a> "
   ]
  },
  {
   "cell_type": "markdown",
   "metadata": {},
   "source": [
    "Par validation croisée, la capacité de la régression logistique à détecter les vrais négatifs est de 26.08% (précision) avec une performance globale de 83.9%."
   ]
  },
  {
   "cell_type": "code",
   "execution_count": 25,
   "metadata": {},
   "outputs": [
    {
     "name": "stdout",
     "output_type": "stream",
     "text": [
      "Precision : 0.26808833678398897\n",
      "Recall : 0.012842545506392283\n",
      "accuracy : 0.8390456451595295\n"
     ]
    }
   ],
   "source": [
    "#k-fold\n",
    "lr = LogisticRegression(random_state=1)\n",
    "\n",
    "print('Precision :', cross_val_score(lr, x, y, cv=5, scoring='precision').mean())\n",
    "print('Recall :', cross_val_score(lr, x, y, cv=5, scoring='recall').mean())\n",
    "print('accuracy :', cross_val_score(lr, x, y, cv=5, scoring='accuracy').mean())"
   ]
  },
  {
   "cell_type": "markdown",
   "metadata": {},
   "source": [
    "### Random Forest <a class=\"anchor\" id=\"RandomForest\"></a> "
   ]
  },
  {
   "cell_type": "markdown",
   "metadata": {},
   "source": [
    "La seconde méthode utilisée est le Random Forest. Entraîné sur 100 arbres, la performance du modèle est de 86.77%. Cependant, il a une meilleure précision sur la capacité à détecter les vrais positifis (88.54%) et les vrais négatifs (65.82%).   "
   ]
  },
  {
   "cell_type": "code",
   "execution_count": 43,
   "metadata": {},
   "outputs": [
    {
     "name": "stdout",
     "output_type": "stream",
     "text": [
      "0.8677196446199408\n",
      "              precision    recall  f1-score   support\n",
      "\n",
      "           0     0.8854    0.9684    0.9251      4270\n",
      "           1     0.6582    0.3270    0.4370       795\n",
      "\n",
      "    accuracy                         0.8677      5065\n",
      "   macro avg     0.7718    0.6477    0.6810      5065\n",
      "weighted avg     0.8498    0.8677    0.8484      5065\n",
      "\n"
     ]
    },
    {
     "data": {
      "text/html": [
       "<div>\n",
       "<style scoped>\n",
       "    .dataframe tbody tr th:only-of-type {\n",
       "        vertical-align: middle;\n",
       "    }\n",
       "\n",
       "    .dataframe tbody tr th {\n",
       "        vertical-align: top;\n",
       "    }\n",
       "\n",
       "    .dataframe thead th {\n",
       "        text-align: right;\n",
       "    }\n",
       "</style>\n",
       "<table border=\"1\" class=\"dataframe\">\n",
       "  <thead>\n",
       "    <tr style=\"text-align: right;\">\n",
       "      <th>col_0</th>\n",
       "      <th>0</th>\n",
       "      <th>1</th>\n",
       "    </tr>\n",
       "    <tr>\n",
       "      <th>P_P_Auto</th>\n",
       "      <th></th>\n",
       "      <th></th>\n",
       "    </tr>\n",
       "  </thead>\n",
       "  <tbody>\n",
       "    <tr>\n",
       "      <th>0</th>\n",
       "      <td>4135</td>\n",
       "      <td>135</td>\n",
       "    </tr>\n",
       "    <tr>\n",
       "      <th>1</th>\n",
       "      <td>535</td>\n",
       "      <td>260</td>\n",
       "    </tr>\n",
       "  </tbody>\n",
       "</table>\n",
       "</div>"
      ],
      "text/plain": [
       "col_0        0    1\n",
       "P_P_Auto           \n",
       "0         4135  135\n",
       "1          535  260"
      ]
     },
     "execution_count": 43,
     "metadata": {},
     "output_type": "execute_result"
    }
   ],
   "source": [
    "## Random forest\n",
    "rf = RandomForestClassifier(n_jobs=-1, random_state=1)\n",
    "rf.fit(x_train, y_train)\n",
    "y_pred_rf = rf.predict(x_test)\n",
    "print(rf.score(x_test, y_test))\n",
    "print(classification_report(y_test, y_pred_rf, digits=4))\n",
    "pd.crosstab(y_test, y_pred_rf)"
   ]
  },
  {
   "cell_type": "markdown",
   "metadata": {},
   "source": [
    "#### Random Forest sur écahntillon manuellement équilibré <a class=\"anchor\" id=\"RandomForestEqMan\"></a> "
   ]
  },
  {
   "cell_type": "markdown",
   "metadata": {},
   "source": [
    "Entraîné par défaut sur 100 arbres avec une profondeur de 2 (choisi sur la courbe d'apprentissage), la performance du modèle est de 93.39%. Il a une meilleure précision sur la capacité à détecter les vrais positifis (93.49%) et les vrais négatifs (74.16%). "
   ]
  },
  {
   "cell_type": "code",
   "execution_count": 32,
   "metadata": {},
   "outputs": [
    {
     "name": "stdout",
     "output_type": "stream",
     "text": [
      "0.9339622641509434\n",
      "              precision    recall  f1-score   support\n",
      "\n",
      "           0     0.9349    0.6586    0.7728       785\n",
      "           1     0.7416    0.9553    0.8350       805\n",
      "\n",
      "    accuracy                         0.8088      1590\n",
      "   macro avg     0.8382    0.8069    0.8039      1590\n",
      "weighted avg     0.8370    0.8088    0.8043      1590\n",
      "\n"
     ]
    },
    {
     "data": {
      "text/html": [
       "<div>\n",
       "<style scoped>\n",
       "    .dataframe tbody tr th:only-of-type {\n",
       "        vertical-align: middle;\n",
       "    }\n",
       "\n",
       "    .dataframe tbody tr th {\n",
       "        vertical-align: top;\n",
       "    }\n",
       "\n",
       "    .dataframe thead th {\n",
       "        text-align: right;\n",
       "    }\n",
       "</style>\n",
       "<table border=\"1\" class=\"dataframe\">\n",
       "  <thead>\n",
       "    <tr style=\"text-align: right;\">\n",
       "      <th>col_0</th>\n",
       "      <th>0</th>\n",
       "      <th>1</th>\n",
       "    </tr>\n",
       "    <tr>\n",
       "      <th>P_P_Auto</th>\n",
       "      <th></th>\n",
       "      <th></th>\n",
       "    </tr>\n",
       "  </thead>\n",
       "  <tbody>\n",
       "    <tr>\n",
       "      <th>0</th>\n",
       "      <td>517</td>\n",
       "      <td>268</td>\n",
       "    </tr>\n",
       "    <tr>\n",
       "      <th>1</th>\n",
       "      <td>36</td>\n",
       "      <td>769</td>\n",
       "    </tr>\n",
       "  </tbody>\n",
       "</table>\n",
       "</div>"
      ],
      "text/plain": [
       "col_0       0    1\n",
       "P_P_Auto          \n",
       "0         517  268\n",
       "1          36  769"
      ]
     },
     "execution_count": 32,
     "metadata": {},
     "output_type": "execute_result"
    }
   ],
   "source": [
    "## Random forest\n",
    "rfEqMan = RandomForestClassifier(n_jobs=-1, random_state = 1, max_depth=2)\n",
    "rfEqMan.fit(x2_train, y2_train)\n",
    "y_pred_rfEq = rfEqMan.predict(x2_test)\n",
    "print(rf.score(x2_test, y2_test))\n",
    "print(classification_report(y2_test, y_pred_rfEq, digits=4))\n",
    "pd.crosstab(y2_test, y_pred_rfEq)"
   ]
  },
  {
   "cell_type": "markdown",
   "metadata": {},
   "source": [
    "#### Selection des hyperparamètres en Random Forest <a class=\"anchor\" id=\"RanForSelectPara\"></a> "
   ]
  },
  {
   "cell_type": "markdown",
   "metadata": {},
   "source": [
    "Il est possible de déterminer les hyperparamètres qui améliorent les performances du random Forest (très long).  Pour être optimale , il faudrait élargir les champs des paramètres à choisir. "
   ]
  },
  {
   "cell_type": "code",
   "execution_count": 82,
   "metadata": {},
   "outputs": [],
   "source": [
    "# Configuration des hyper paramètres\n",
    "param_grid={'n_estimators':[100, 200, 300],\n",
    "           'max_depth':np.arange(2, 100, 10)}\n"
   ]
  },
  {
   "cell_type": "code",
   "execution_count": 83,
   "metadata": {},
   "outputs": [
    {
     "name": "stdout",
     "output_type": "stream",
     "text": [
      "0.8618888279526647\n",
      "{'max_depth': 52, 'n_estimators': 200}\n",
      "0.8614017769002962\n"
     ]
    }
   ],
   "source": [
    "# Test les différents paramètres\n",
    "grid=GridSearchCV(RandomForestClassifier(),param_grid,cv = 10)\n",
    "\n",
    "# Entraîne le modèle\n",
    "grid.fit(x_train, y_train)\n",
    "\n",
    "# Affiche le meilleur modèle\n",
    "print(grid.best_score_)\n",
    "print(grid.best_params_)\n",
    "\n",
    "# Entraîne avec les meilleurs paramètres\n",
    "modelBestPara = grid.best_estimator_\n",
    "print(modelBestPara.score(x_test, y_test))"
   ]
  },
  {
   "cell_type": "markdown",
   "metadata": {},
   "source": [
    "#### Importance des variables par Random Forest <a class=\"anchor\" id=\"ImpVariable\"></a> "
   ]
  },
  {
   "cell_type": "code",
   "execution_count": 27,
   "metadata": {},
   "outputs": [
    {
     "data": {
      "text/html": [
       "<div>\n",
       "<style scoped>\n",
       "    .dataframe tbody tr th:only-of-type {\n",
       "        vertical-align: middle;\n",
       "    }\n",
       "\n",
       "    .dataframe tbody tr th {\n",
       "        vertical-align: top;\n",
       "    }\n",
       "\n",
       "    .dataframe thead th {\n",
       "        text-align: right;\n",
       "    }\n",
       "</style>\n",
       "<table border=\"1\" class=\"dataframe\">\n",
       "  <thead>\n",
       "    <tr style=\"text-align: right;\">\n",
       "      <th></th>\n",
       "      <th>variables</th>\n",
       "      <th>Importance</th>\n",
       "    </tr>\n",
       "  </thead>\n",
       "  <tbody>\n",
       "    <tr>\n",
       "      <th>11</th>\n",
       "      <td>T_P_Familiaux</td>\n",
       "      <td>25.681393</td>\n",
       "    </tr>\n",
       "    <tr>\n",
       "      <th>4</th>\n",
       "      <td>NIR_T</td>\n",
       "      <td>10.084225</td>\n",
       "    </tr>\n",
       "    <tr>\n",
       "      <th>6</th>\n",
       "      <td>Flux_Corr</td>\n",
       "      <td>9.333073</td>\n",
       "    </tr>\n",
       "    <tr>\n",
       "      <th>7</th>\n",
       "      <td>SM_DAV_A</td>\n",
       "      <td>9.162281</td>\n",
       "    </tr>\n",
       "    <tr>\n",
       "      <th>12</th>\n",
       "      <td>Mt_Prelev_Auto</td>\n",
       "      <td>8.977873</td>\n",
       "    </tr>\n",
       "    <tr>\n",
       "      <th>9</th>\n",
       "      <td>T_Ep_Taux_Fixe</td>\n",
       "      <td>8.763913</td>\n",
       "    </tr>\n",
       "    <tr>\n",
       "      <th>5</th>\n",
       "      <td>Dispo_Mensuel</td>\n",
       "      <td>8.527445</td>\n",
       "    </tr>\n",
       "    <tr>\n",
       "      <th>1</th>\n",
       "      <td>Age_PP</td>\n",
       "      <td>7.649213</td>\n",
       "    </tr>\n",
       "    <tr>\n",
       "      <th>10</th>\n",
       "      <td>T_Epar_Assur</td>\n",
       "      <td>3.977203</td>\n",
       "    </tr>\n",
       "    <tr>\n",
       "      <th>0</th>\n",
       "      <td>Groupe_CSP</td>\n",
       "      <td>3.007096</td>\n",
       "    </tr>\n",
       "    <tr>\n",
       "      <th>8</th>\n",
       "      <td>T_Ep_Risque</td>\n",
       "      <td>2.540004</td>\n",
       "    </tr>\n",
       "    <tr>\n",
       "      <th>3</th>\n",
       "      <td>Sit_Fam</td>\n",
       "      <td>2.184450</td>\n",
       "    </tr>\n",
       "    <tr>\n",
       "      <th>2</th>\n",
       "      <td>Nouveau_Client</td>\n",
       "      <td>0.111830</td>\n",
       "    </tr>\n",
       "  </tbody>\n",
       "</table>\n",
       "</div>"
      ],
      "text/plain": [
       "         variables  Importance\n",
       "11   T_P_Familiaux   25.681393\n",
       "4            NIR_T   10.084225\n",
       "6        Flux_Corr    9.333073\n",
       "7         SM_DAV_A    9.162281\n",
       "12  Mt_Prelev_Auto    8.977873\n",
       "9   T_Ep_Taux_Fixe    8.763913\n",
       "5    Dispo_Mensuel    8.527445\n",
       "1           Age_PP    7.649213\n",
       "10    T_Epar_Assur    3.977203\n",
       "0       Groupe_CSP    3.007096\n",
       "8      T_Ep_Risque    2.540004\n",
       "3          Sit_Fam    2.184450\n",
       "2   Nouveau_Client    0.111830"
      ]
     },
     "execution_count": 27,
     "metadata": {},
     "output_type": "execute_result"
    }
   ],
   "source": [
    "# # Selection des variables qui contribuent le plus\n",
    "v = rf.feature_importances_\n",
    "\n",
    "#Affiche les variables et leurs contributions dans un data frame \n",
    "importance_var_rf = pd.DataFrame({\"variables\":df_ind.columns.drop(\"P_P_Auto\"), \"Importance\":v*100})\n",
    "importance_var_rf.sort_values(by = 'Importance', ascending = False)"
   ]
  },
  {
   "cell_type": "markdown",
   "metadata": {},
   "source": [
    "Suivant le Random Forest, les variables qui contribuent le plus à l'octroi ou non d'un prêt automobile sont la somme des crédits en cours (T_P_Familiaux), l'intensité de relation avec la banque NIR_T), les flux créditeurs corrigés de l'année en cours (Flux_Corr), la capacité à épargner à taux fixe. Cependant, le fait d'être un nouveau client n'est pas déterminant dans l'octroi d'un prêt.  "
   ]
  },
  {
   "cell_type": "markdown",
   "metadata": {},
   "source": [
    "### SVM <a class=\"anchor\" id=\"SVM\"></a> "
   ]
  },
  {
   "cell_type": "markdown",
   "metadata": {},
   "source": [
    "Le SVM entrainé avec un noyau radial (par défaut 'rbf') donne une performance de 84.28%. Il a une précision de 84.30 % sur la capacité à détecter les vrais positifs. Cependant, il a une précision nulle sur les vrais négatifs."
   ]
  },
  {
   "cell_type": "code",
   "execution_count": 34,
   "metadata": {},
   "outputs": [
    {
     "name": "stdout",
     "output_type": "stream",
     "text": [
      "0.8428430404738401\n",
      "              precision    recall  f1-score   support\n",
      "\n",
      "           0     0.8430    0.9998    0.9147      4270\n",
      "           1     0.0000    0.0000    0.0000       795\n",
      "\n",
      "    accuracy                         0.8428      5065\n",
      "   macro avg     0.4215    0.4999    0.4574      5065\n",
      "weighted avg     0.7107    0.8428    0.7711      5065\n",
      "\n"
     ]
    },
    {
     "data": {
      "text/html": [
       "<div>\n",
       "<style scoped>\n",
       "    .dataframe tbody tr th:only-of-type {\n",
       "        vertical-align: middle;\n",
       "    }\n",
       "\n",
       "    .dataframe tbody tr th {\n",
       "        vertical-align: top;\n",
       "    }\n",
       "\n",
       "    .dataframe thead th {\n",
       "        text-align: right;\n",
       "    }\n",
       "</style>\n",
       "<table border=\"1\" class=\"dataframe\">\n",
       "  <thead>\n",
       "    <tr style=\"text-align: right;\">\n",
       "      <th>col_0</th>\n",
       "      <th>0</th>\n",
       "      <th>1</th>\n",
       "    </tr>\n",
       "    <tr>\n",
       "      <th>P_P_Auto</th>\n",
       "      <th></th>\n",
       "      <th></th>\n",
       "    </tr>\n",
       "  </thead>\n",
       "  <tbody>\n",
       "    <tr>\n",
       "      <th>0</th>\n",
       "      <td>4269</td>\n",
       "      <td>1</td>\n",
       "    </tr>\n",
       "    <tr>\n",
       "      <th>1</th>\n",
       "      <td>795</td>\n",
       "      <td>0</td>\n",
       "    </tr>\n",
       "  </tbody>\n",
       "</table>\n",
       "</div>"
      ],
      "text/plain": [
       "col_0        0  1\n",
       "P_P_Auto         \n",
       "0         4269  1\n",
       "1          795  0"
      ]
     },
     "execution_count": 34,
     "metadata": {},
     "output_type": "execute_result"
    }
   ],
   "source": [
    "#SVM\n",
    "svm = SVC(probability=True, random_state = 1)\n",
    "svm.fit(x_train, y_train)\n",
    "y_pred_svm = svm.predict(x_test)\n",
    "\n",
    "print(svm.score(x_test, y_test))\n",
    "print(classification_report(y_test, y_pred_svm, digits=4))\n",
    "\n",
    "pd.crosstab(y_test, y_pred_svm)"
   ]
  },
  {
   "cell_type": "markdown",
   "metadata": {},
   "source": [
    "#### SVM sur échantillon manuellement équilibrée <a class=\"anchor\" id=\"SvmManuel\"></a> "
   ]
  },
  {
   "cell_type": "markdown",
   "metadata": {},
   "source": [
    "Le SVM entrainé avec un noyau radial donne une performance de 70.62%. Il a une précision de 72.52 % sur la capacité à détecter les vrais positifs. Cependant, les précisions sur les vrais négatifs sont largement meilleurs que le modèle précédent."
   ]
  },
  {
   "cell_type": "code",
   "execution_count": 33,
   "metadata": {},
   "outputs": [
    {
     "name": "stdout",
     "output_type": "stream",
     "text": [
      "0.7062893081761006\n",
      "              precision    recall  f1-score   support\n",
      "\n",
      "           0     0.7252    0.6522    0.6868       785\n",
      "           1     0.6912    0.7590    0.7235       805\n",
      "\n",
      "    accuracy                         0.7063      1590\n",
      "   macro avg     0.7082    0.7056    0.7051      1590\n",
      "weighted avg     0.7080    0.7063    0.7054      1590\n",
      "\n"
     ]
    },
    {
     "data": {
      "text/html": [
       "<div>\n",
       "<style scoped>\n",
       "    .dataframe tbody tr th:only-of-type {\n",
       "        vertical-align: middle;\n",
       "    }\n",
       "\n",
       "    .dataframe tbody tr th {\n",
       "        vertical-align: top;\n",
       "    }\n",
       "\n",
       "    .dataframe thead th {\n",
       "        text-align: right;\n",
       "    }\n",
       "</style>\n",
       "<table border=\"1\" class=\"dataframe\">\n",
       "  <thead>\n",
       "    <tr style=\"text-align: right;\">\n",
       "      <th>col_0</th>\n",
       "      <th>0</th>\n",
       "      <th>1</th>\n",
       "    </tr>\n",
       "    <tr>\n",
       "      <th>P_P_Auto</th>\n",
       "      <th></th>\n",
       "      <th></th>\n",
       "    </tr>\n",
       "  </thead>\n",
       "  <tbody>\n",
       "    <tr>\n",
       "      <th>0</th>\n",
       "      <td>512</td>\n",
       "      <td>273</td>\n",
       "    </tr>\n",
       "    <tr>\n",
       "      <th>1</th>\n",
       "      <td>194</td>\n",
       "      <td>611</td>\n",
       "    </tr>\n",
       "  </tbody>\n",
       "</table>\n",
       "</div>"
      ],
      "text/plain": [
       "col_0       0    1\n",
       "P_P_Auto          \n",
       "0         512  273\n",
       "1         194  611"
      ]
     },
     "execution_count": 33,
     "metadata": {},
     "output_type": "execute_result"
    }
   ],
   "source": [
    "#SVM\n",
    "svmMan = SVC(probability = True, random_state = 1)\n",
    "svmMan.fit(x2_train, y2_train)\n",
    "y2_pred_svm = svmMan.predict(x2_test)\n",
    "\n",
    "print(svmMan.score(x2_test, y2_test))\n",
    "\n",
    "print(classification_report(y2_test, y2_pred_svm , digits=4))\n",
    "pd.crosstab(y2_test, y2_pred_svm)"
   ]
  },
  {
   "cell_type": "markdown",
   "metadata": {},
   "source": [
    "#### Selection des hyperparamètres en SVM <a class=\"anchor\" id=\"SvmSelectPara\"></a>"
   ]
  },
  {
   "cell_type": "markdown",
   "metadata": {},
   "source": [
    "Il est possible de déterminer les hyperparamètres qui améliorent les performances du SVM. Cependant, nous n'avons pas  réussi à obtenir les sorties car très long.  (Nous avons attentu 1 heure sans sortie)."
   ]
  },
  {
   "cell_type": "code",
   "execution_count": 33,
   "metadata": {},
   "outputs": [],
   "source": [
    "# Configuration des hyper paramètres\n",
    "param_grid = [\n",
    "  {'C': [1, 10, 50], 'kernel': ['linear']},\n",
    "  {'C': [1, 10, 50], 'gamma': [0.001, 0.0001], 'kernel': ['rbf']},\n",
    " ]"
   ]
  },
  {
   "cell_type": "code",
   "execution_count": null,
   "metadata": {},
   "outputs": [],
   "source": [
    "# Test les différents paramètres\n",
    "grid=GridSearchCV(SVC(),param_grid,cv = 10)\n",
    "\n",
    "# Entraîne le modèle\n",
    "grid.fit(x_train, y_train)\n",
    "\n",
    "# Affiche le meilleur modèle\n",
    "print(grid.best_score_)\n",
    "print(grid.best_params_)\n",
    "\n",
    "# Entraîne avec les meilleurs paramètres\n",
    "modelBestPara = grid.best_estimator_\n",
    "print(modelBestPara.score(x_test, y_test))"
   ]
  },
  {
   "cell_type": "markdown",
   "metadata": {},
   "source": [
    "### Bagging  & Boosting  <a class=\"anchor\" id=\"Bagging\"></a>"
   ]
  },
  {
   "cell_type": "markdown",
   "metadata": {},
   "source": [
    "Ensuite, nous avons utilisé le bagging et le boosting. Le modèle de Bagging est légèrement moins performant que le boosting (85.31% contre 86.23%). Le modèle de boosting a une meilleure précision sur la capacité à détecter les vrais négatifs. Et inversement, le modèle de boosting a une meilleure précision sur la capacité à détecter les vrais positifs. "
   ]
  },
  {
   "cell_type": "code",
   "execution_count": 35,
   "metadata": {},
   "outputs": [
    {
     "name": "stdout",
     "output_type": "stream",
     "text": [
      "0.8531095755182626\n",
      "              precision    recall  f1-score   support\n",
      "\n",
      "           0     0.8626    0.9822    0.9185      4270\n",
      "           1     0.6256    0.1597    0.2545       795\n",
      "\n",
      "    accuracy                         0.8531      5065\n",
      "   macro avg     0.7441    0.5710    0.5865      5065\n",
      "weighted avg     0.8254    0.8531    0.8143      5065\n",
      "\n"
     ]
    },
    {
     "data": {
      "text/html": [
       "<div>\n",
       "<style scoped>\n",
       "    .dataframe tbody tr th:only-of-type {\n",
       "        vertical-align: middle;\n",
       "    }\n",
       "\n",
       "    .dataframe tbody tr th {\n",
       "        vertical-align: top;\n",
       "    }\n",
       "\n",
       "    .dataframe thead th {\n",
       "        text-align: right;\n",
       "    }\n",
       "</style>\n",
       "<table border=\"1\" class=\"dataframe\">\n",
       "  <thead>\n",
       "    <tr style=\"text-align: right;\">\n",
       "      <th>col_0</th>\n",
       "      <th>0</th>\n",
       "      <th>1</th>\n",
       "    </tr>\n",
       "    <tr>\n",
       "      <th>P_P_Auto</th>\n",
       "      <th></th>\n",
       "      <th></th>\n",
       "    </tr>\n",
       "  </thead>\n",
       "  <tbody>\n",
       "    <tr>\n",
       "      <th>0</th>\n",
       "      <td>4194</td>\n",
       "      <td>76</td>\n",
       "    </tr>\n",
       "    <tr>\n",
       "      <th>1</th>\n",
       "      <td>668</td>\n",
       "      <td>127</td>\n",
       "    </tr>\n",
       "  </tbody>\n",
       "</table>\n",
       "</div>"
      ],
      "text/plain": [
       "col_0        0    1\n",
       "P_P_Auto           \n",
       "0         4194   76\n",
       "1          668  127"
      ]
     },
     "execution_count": 35,
     "metadata": {},
     "output_type": "execute_result"
    }
   ],
   "source": [
    "# Bagging \n",
    "model_bagging = BaggingClassifier(base_estimator= ExtraTreesClassifier(), n_estimators=100, random_state = 1)\n",
    "model_bagging.fit(x_train, y_train)\n",
    "y_pred_bag = model_bagging.predict(x_test)\n",
    "print(model_bagging.score(x_test, y_test))\n",
    "print(classification_report(y_test, y_pred_bag, digits=4))\n",
    "pd.crosstab(y_test, y_pred_bag)"
   ]
  },
  {
   "cell_type": "code",
   "execution_count": 28,
   "metadata": {},
   "outputs": [
    {
     "name": "stdout",
     "output_type": "stream",
     "text": [
      "0.8623889437314907\n",
      "              precision    recall  f1-score   support\n",
      "\n",
      "           0     0.8888    0.9564    0.9214      4270\n",
      "           1     0.6043    0.3572    0.4490       795\n",
      "\n",
      "    accuracy                         0.8624      5065\n",
      "   macro avg     0.7465    0.6568    0.6852      5065\n",
      "weighted avg     0.8441    0.8624    0.8472      5065\n",
      "\n"
     ]
    },
    {
     "data": {
      "text/html": [
       "<div>\n",
       "<style scoped>\n",
       "    .dataframe tbody tr th:only-of-type {\n",
       "        vertical-align: middle;\n",
       "    }\n",
       "\n",
       "    .dataframe tbody tr th {\n",
       "        vertical-align: top;\n",
       "    }\n",
       "\n",
       "    .dataframe thead th {\n",
       "        text-align: right;\n",
       "    }\n",
       "</style>\n",
       "<table border=\"1\" class=\"dataframe\">\n",
       "  <thead>\n",
       "    <tr style=\"text-align: right;\">\n",
       "      <th>col_0</th>\n",
       "      <th>0</th>\n",
       "      <th>1</th>\n",
       "    </tr>\n",
       "    <tr>\n",
       "      <th>P_P_Auto</th>\n",
       "      <th></th>\n",
       "      <th></th>\n",
       "    </tr>\n",
       "  </thead>\n",
       "  <tbody>\n",
       "    <tr>\n",
       "      <th>0</th>\n",
       "      <td>4084</td>\n",
       "      <td>186</td>\n",
       "    </tr>\n",
       "    <tr>\n",
       "      <th>1</th>\n",
       "      <td>511</td>\n",
       "      <td>284</td>\n",
       "    </tr>\n",
       "  </tbody>\n",
       "</table>\n",
       "</div>"
      ],
      "text/plain": [
       "col_0        0    1\n",
       "P_P_Auto           \n",
       "0         4084  186\n",
       "1          511  284"
      ]
     },
     "execution_count": 28,
     "metadata": {},
     "output_type": "execute_result"
    }
   ],
   "source": [
    "## boosting\n",
    "model_boost = AdaBoostClassifier(n_estimators = 100, random_state = 1)\n",
    "model_boost.fit(x_train, y_train)\n",
    "y_pred_boost = model_boost.predict(x_test)\n",
    "print(model_boost.score(x_test, y_test))\n",
    "print(classification_report(y_test, y_pred_boost, digits=4))\n",
    "pd.crosstab(y_test,y_pred_boost)"
   ]
  },
  {
   "cell_type": "markdown",
   "metadata": {},
   "source": [
    "### Vérification de l'overfitting  <a class=\"anchor\" id=\"VerifOverfitting\"></a>"
   ]
  },
  {
   "cell_type": "markdown",
   "metadata": {},
   "source": [
    "Nous vérifions l'écart entre les performances du modèle sur le **train set** et la **test set** en fonction du paramètre max_depth afin de détecter l'overfitting. Ainsi, au délà de max_depth=5, l'écart se dessine entre les performances du train set et du test set. En effet, la perforamnce sur le train set repart à la hausse tandis que celle du test set augmente mais moins rapidement."
   ]
  },
  {
   "cell_type": "markdown",
   "metadata": {},
   "source": [
    "#### Courbe de validation"
   ]
  },
  {
   "cell_type": "code",
   "execution_count": 41,
   "metadata": {},
   "outputs": [
    {
     "data": {
      "text/plain": [
       "<matplotlib.legend.Legend at 0x17963abd160>"
      ]
     },
     "execution_count": 41,
     "metadata": {},
     "output_type": "execute_result"
    },
    {
     "data": {
      "image/png": "[encoded data removed]",
      "text/plain": [
       "<Figure size 432x288 with 1 Axes>"
      ]
     },
     "metadata": {
      "needs_background": "light"
     },
     "output_type": "display_data"
    }
   ],
   "source": [
    "## Validation curve\n",
    "model = RandomForestClassifier()\n",
    "k = np.arange(1, 10)\n",
    "train_score, val_score = validation_curve(model, x_train, y_train,'max_depth', k, cv=10)\n",
    "\n",
    "plt.plot(k, val_score.mean(axis = 1), label = \"validation\")\n",
    "plt.plot(k, train_score.mean(axis = 1), label= \"train\")\n",
    "plt.legend()"
   ]
  },
  {
   "cell_type": "markdown",
   "metadata": {},
   "source": [
    "### Choix du modèle optimal : courbe ROC <a class=\"anchor\" id=\"CourbeRoc\"></a> "
   ]
  },
  {
   "cell_type": "markdown",
   "metadata": {},
   "source": [
    "On évalue l'aire sous la courbe des différents modèles étudiés jusqu'ici."
   ]
  },
  {
   "cell_type": "code",
   "execution_count": 39,
   "metadata": {},
   "outputs": [
    {
     "data": {
      "image/png": "[encoded data removed]",
      "text/plain": [
       "<Figure size 432x288 with 1 Axes>"
      ]
     },
     "metadata": {
      "needs_background": "light"
     },
     "output_type": "display_data"
    }
   ],
   "source": [
    "#Courbe ROC\n",
    "modeles = ['RF', 'LR', 'SVM', 'LREQ','Bagging', 'Boosting']\n",
    "\n",
    "plt.title('Courbe ROC')\n",
    "\n",
    "for i, model in enumerate([rf, lr, svm, lrEquilibree, model_bagging, model_boost]):\n",
    "    probs = model.predict_proba(x_test) \n",
    "    preds = probs[:,1] \n",
    "    fpr, tpr, threshold = roc_curve(y_test, preds)\n",
    "    roc_auc = auc(fpr, tpr)\n",
    "\n",
    "    tpr = np.insert(tpr, 0, 0)\n",
    "    fpr = np.insert(fpr, 0, 0)\n",
    "\n",
    "    plt.plot(fpr, tpr, label = modeles[i]+' AUC = %0.2f' % roc_auc)\n",
    "\n",
    "plt.legend(loc = 'lower right') \n",
    "plt.plot([0, 1], [0, 1],'r--')\n",
    "plt.ylabel('Taux de vrais positifs')\n",
    "plt.xlabel('Taux de faux positifs')\n",
    "plt.show()"
   ]
  },
  {
   "cell_type": "markdown",
   "metadata": {},
   "source": [
    "#### Courbe ROC (manuel)"
   ]
  },
  {
   "cell_type": "code",
   "execution_count": 40,
   "metadata": {},
   "outputs": [
    {
     "data": {
      "image/png": "[encoded data removed]",
      "text/plain": [
       "<Figure size 432x288 with 1 Axes>"
      ]
     },
     "metadata": {
      "needs_background": "light"
     },
     "output_type": "display_data"
    }
   ],
   "source": [
    "# Courbes ROC\n",
    "modeles = ['RF_EQmqn', 'LR_EQman', 'SVM_EQman']\n",
    "\n",
    "plt.title('Courbe ROC')\n",
    "\n",
    "# modelBestPara, modelBestParaSvm, \n",
    "for i, model in enumerate([rfEqMan, lrEqMan, svmMan]):\n",
    "    probs = model.predict_proba(x2_test) \n",
    "    preds = probs[:,1] \n",
    "    fpr, tpr, threshold = roc_curve(y2_test, preds)\n",
    "    roc_auc = auc(fpr, tpr)\n",
    "\n",
    "    tpr = np.insert(tpr, 0, 0)\n",
    "    fpr = np.insert(fpr, 0, 0)\n",
    "\n",
    "    plt.plot(fpr, tpr, label = modeles[i]+' AUC = %0.2f' % roc_auc)\n",
    "\n",
    "plt.legend(loc = 'lower right') \n",
    "plt.plot([0, 1], [0, 1],'r--')\n",
    "plt.ylabel('Taux de vrais positifs')\n",
    "plt.xlabel('Taux de faux positifs')\n",
    "plt.show()"
   ]
  },
  {
   "cell_type": "markdown",
   "metadata": {},
   "source": [
    "Les Random Forest (sur échantillon équilibré manuellement ou non), le Boosting et le Bagging sont les modèles les plus performants avec respectivement des AUC de 0.85, 0.9, 0.89 et 0.88. Nous avons donc choisit comme modèle le Radom Forest."
   ]
  },
  {
   "cell_type": "markdown",
   "metadata": {},
   "source": [
    "## Selection des clients les plus appétents  <a class=\"anchor\" id=\"SelecClients\"></a> "
   ]
  },
  {
   "cell_type": "code",
   "execution_count": 44,
   "metadata": {},
   "outputs": [],
   "source": [
    "# Création d'une copie de df_ind en conservant les index\n",
    "ClientsAp = df_ind.copy(deep=True)\n",
    "\n",
    "\n",
    "ClientsAp = ClientsAp[ClientsAp[\"P_P_Auto\"]==0]\n",
    "x_ClientsAp = ClientsAp.drop(\"P_P_Auto\",axis=1)\n",
    "y_ClientsAp = ClientsAp[\"P_P_Auto\"]"
   ]
  },
  {
   "cell_type": "code",
   "execution_count": 45,
   "metadata": {},
   "outputs": [
    {
     "name": "stdout",
     "output_type": "stream",
     "text": [
      "0.9936771111423353\n",
      "              precision    recall  f1-score   support\n",
      "\n",
      "           0     1.0000    1.0000    1.0000     21351\n",
      "\n",
      "    accuracy                         1.0000     21351\n",
      "   macro avg     1.0000    1.0000    1.0000     21351\n",
      "weighted avg     1.0000    1.0000    1.0000     21351\n",
      "\n"
     ]
    },
    {
     "data": {
      "text/html": [
       "<div>\n",
       "<style scoped>\n",
       "    .dataframe tbody tr th:only-of-type {\n",
       "        vertical-align: middle;\n",
       "    }\n",
       "\n",
       "    .dataframe tbody tr th {\n",
       "        vertical-align: top;\n",
       "    }\n",
       "\n",
       "    .dataframe thead th {\n",
       "        text-align: right;\n",
       "    }\n",
       "</style>\n",
       "<table border=\"1\" class=\"dataframe\">\n",
       "  <thead>\n",
       "    <tr style=\"text-align: right;\">\n",
       "      <th>col_0</th>\n",
       "      <th>0</th>\n",
       "      <th>1</th>\n",
       "    </tr>\n",
       "    <tr>\n",
       "      <th>P_P_Auto</th>\n",
       "      <th></th>\n",
       "      <th></th>\n",
       "    </tr>\n",
       "  </thead>\n",
       "  <tbody>\n",
       "    <tr>\n",
       "      <th>0</th>\n",
       "      <td>21216</td>\n",
       "      <td>135</td>\n",
       "    </tr>\n",
       "  </tbody>\n",
       "</table>\n",
       "</div>"
      ],
      "text/plain": [
       "col_0         0    1\n",
       "P_P_Auto            \n",
       "0         21216  135"
      ]
     },
     "execution_count": 45,
     "metadata": {},
     "output_type": "execute_result"
    }
   ],
   "source": [
    "# On réaliser une prédiction via la modèle de Random Forest sur échantillon manuellement équilibré\n",
    "y_pred_ClientsAp = rf.predict(x_ClientsAp)\n",
    "print(rf.score(x_ClientsAp, y_ClientsAp))\n",
    "print(classification_report(y_ClientsAp, y_ClientsAp, digits=4))\n",
    "pd.crosstab(y_ClientsAp, y_pred_ClientsAp)"
   ]
  },
  {
   "cell_type": "code",
   "execution_count": 46,
   "metadata": {},
   "outputs": [
    {
     "data": {
      "text/plain": [
       "array([[1., 0.],\n",
       "       [1., 0.],\n",
       "       [1., 0.],\n",
       "       ...,\n",
       "       [1., 0.],\n",
       "       [1., 0.],\n",
       "       [1., 0.]])"
      ]
     },
     "execution_count": 46,
     "metadata": {},
     "output_type": "execute_result"
    }
   ],
   "source": [
    "# Probabilité de la prédiction \n",
    "new = rf.predict_proba(x_ClientsAp)\n",
    "new"
   ]
  },
  {
   "cell_type": "code",
   "execution_count": 47,
   "metadata": {},
   "outputs": [
    {
     "name": "stdout",
     "output_type": "stream",
     "text": [
      "Voici la liste des 5000 personnes les plus appétentes à l'offre de prêt automobile.\n"
     ]
    },
    {
     "data": {
      "text/html": [
       "<div>\n",
       "<style scoped>\n",
       "    .dataframe tbody tr th:only-of-type {\n",
       "        vertical-align: middle;\n",
       "    }\n",
       "\n",
       "    .dataframe tbody tr th {\n",
       "        vertical-align: top;\n",
       "    }\n",
       "\n",
       "    .dataframe thead th {\n",
       "        text-align: right;\n",
       "    }\n",
       "</style>\n",
       "<table border=\"1\" class=\"dataframe\">\n",
       "  <thead>\n",
       "    <tr style=\"text-align: right;\">\n",
       "      <th></th>\n",
       "      <th>Groupe_CSP</th>\n",
       "      <th>Age_PP</th>\n",
       "      <th>Nouveau_Client</th>\n",
       "      <th>Sit_Fam</th>\n",
       "      <th>NIR_T</th>\n",
       "      <th>Dispo_Mensuel</th>\n",
       "      <th>Flux_Corr</th>\n",
       "      <th>SM_DAV_A</th>\n",
       "      <th>T_Ep_Risque</th>\n",
       "      <th>T_Ep_Taux_Fixe</th>\n",
       "      <th>T_Epar_Assur</th>\n",
       "      <th>T_P_Familiaux</th>\n",
       "      <th>Mt_Prelev_Auto</th>\n",
       "      <th>P_P_Auto</th>\n",
       "      <th>prob</th>\n",
       "    </tr>\n",
       "    <tr>\n",
       "      <th>Numero_Client</th>\n",
       "      <th></th>\n",
       "      <th></th>\n",
       "      <th></th>\n",
       "      <th></th>\n",
       "      <th></th>\n",
       "      <th></th>\n",
       "      <th></th>\n",
       "      <th></th>\n",
       "      <th></th>\n",
       "      <th></th>\n",
       "      <th></th>\n",
       "      <th></th>\n",
       "      <th></th>\n",
       "      <th></th>\n",
       "      <th></th>\n",
       "    </tr>\n",
       "  </thead>\n",
       "  <tbody>\n",
       "    <tr>\n",
       "      <th>37080</th>\n",
       "      <td>6</td>\n",
       "      <td>20</td>\n",
       "      <td>0</td>\n",
       "      <td>1</td>\n",
       "      <td>70</td>\n",
       "      <td>1603</td>\n",
       "      <td>21918</td>\n",
       "      <td>151</td>\n",
       "      <td>0</td>\n",
       "      <td>555</td>\n",
       "      <td>0</td>\n",
       "      <td>4238</td>\n",
       "      <td>1764</td>\n",
       "      <td>0</td>\n",
       "      <td>0.83</td>\n",
       "    </tr>\n",
       "    <tr>\n",
       "      <th>5541</th>\n",
       "      <td>6</td>\n",
       "      <td>26</td>\n",
       "      <td>0</td>\n",
       "      <td>1</td>\n",
       "      <td>69</td>\n",
       "      <td>1693</td>\n",
       "      <td>27145</td>\n",
       "      <td>1072</td>\n",
       "      <td>0</td>\n",
       "      <td>1134</td>\n",
       "      <td>0</td>\n",
       "      <td>4519</td>\n",
       "      <td>4846</td>\n",
       "      <td>0</td>\n",
       "      <td>0.81</td>\n",
       "    </tr>\n",
       "    <tr>\n",
       "      <th>33999</th>\n",
       "      <td>6</td>\n",
       "      <td>21</td>\n",
       "      <td>0</td>\n",
       "      <td>1</td>\n",
       "      <td>71</td>\n",
       "      <td>1810</td>\n",
       "      <td>29386</td>\n",
       "      <td>597</td>\n",
       "      <td>210</td>\n",
       "      <td>1537</td>\n",
       "      <td>0</td>\n",
       "      <td>7824</td>\n",
       "      <td>4900</td>\n",
       "      <td>0</td>\n",
       "      <td>0.80</td>\n",
       "    </tr>\n",
       "    <tr>\n",
       "      <th>25352</th>\n",
       "      <td>6</td>\n",
       "      <td>52</td>\n",
       "      <td>0</td>\n",
       "      <td>2</td>\n",
       "      <td>81</td>\n",
       "      <td>3213</td>\n",
       "      <td>34093</td>\n",
       "      <td>1978</td>\n",
       "      <td>0</td>\n",
       "      <td>2748</td>\n",
       "      <td>0</td>\n",
       "      <td>10968</td>\n",
       "      <td>5612</td>\n",
       "      <td>0</td>\n",
       "      <td>0.79</td>\n",
       "    </tr>\n",
       "    <tr>\n",
       "      <th>23212</th>\n",
       "      <td>4</td>\n",
       "      <td>29</td>\n",
       "      <td>0</td>\n",
       "      <td>2</td>\n",
       "      <td>70</td>\n",
       "      <td>3462</td>\n",
       "      <td>35096</td>\n",
       "      <td>1249</td>\n",
       "      <td>0</td>\n",
       "      <td>922</td>\n",
       "      <td>0</td>\n",
       "      <td>5389</td>\n",
       "      <td>885</td>\n",
       "      <td>0</td>\n",
       "      <td>0.75</td>\n",
       "    </tr>\n",
       "    <tr>\n",
       "      <th>...</th>\n",
       "      <td>...</td>\n",
       "      <td>...</td>\n",
       "      <td>...</td>\n",
       "      <td>...</td>\n",
       "      <td>...</td>\n",
       "      <td>...</td>\n",
       "      <td>...</td>\n",
       "      <td>...</td>\n",
       "      <td>...</td>\n",
       "      <td>...</td>\n",
       "      <td>...</td>\n",
       "      <td>...</td>\n",
       "      <td>...</td>\n",
       "      <td>...</td>\n",
       "      <td>...</td>\n",
       "    </tr>\n",
       "    <tr>\n",
       "      <th>28380</th>\n",
       "      <td>6</td>\n",
       "      <td>55</td>\n",
       "      <td>0</td>\n",
       "      <td>2</td>\n",
       "      <td>72</td>\n",
       "      <td>2524</td>\n",
       "      <td>28255</td>\n",
       "      <td>1009</td>\n",
       "      <td>0</td>\n",
       "      <td>24463</td>\n",
       "      <td>0</td>\n",
       "      <td>6947</td>\n",
       "      <td>6265</td>\n",
       "      <td>0</td>\n",
       "      <td>0.10</td>\n",
       "    </tr>\n",
       "    <tr>\n",
       "      <th>24714</th>\n",
       "      <td>6</td>\n",
       "      <td>30</td>\n",
       "      <td>0</td>\n",
       "      <td>2</td>\n",
       "      <td>80</td>\n",
       "      <td>1913</td>\n",
       "      <td>29965</td>\n",
       "      <td>1556</td>\n",
       "      <td>0</td>\n",
       "      <td>3046</td>\n",
       "      <td>0</td>\n",
       "      <td>136650</td>\n",
       "      <td>6103</td>\n",
       "      <td>0</td>\n",
       "      <td>0.10</td>\n",
       "    </tr>\n",
       "    <tr>\n",
       "      <th>23026</th>\n",
       "      <td>1</td>\n",
       "      <td>44</td>\n",
       "      <td>0</td>\n",
       "      <td>2</td>\n",
       "      <td>81</td>\n",
       "      <td>2386</td>\n",
       "      <td>37780</td>\n",
       "      <td>-22</td>\n",
       "      <td>429</td>\n",
       "      <td>1152</td>\n",
       "      <td>2237</td>\n",
       "      <td>86920</td>\n",
       "      <td>6520</td>\n",
       "      <td>0</td>\n",
       "      <td>0.10</td>\n",
       "    </tr>\n",
       "    <tr>\n",
       "      <th>38149</th>\n",
       "      <td>6</td>\n",
       "      <td>28</td>\n",
       "      <td>0</td>\n",
       "      <td>6</td>\n",
       "      <td>70</td>\n",
       "      <td>2088</td>\n",
       "      <td>24932</td>\n",
       "      <td>350</td>\n",
       "      <td>0</td>\n",
       "      <td>326</td>\n",
       "      <td>23</td>\n",
       "      <td>1932</td>\n",
       "      <td>8469</td>\n",
       "      <td>0</td>\n",
       "      <td>0.10</td>\n",
       "    </tr>\n",
       "    <tr>\n",
       "      <th>1944</th>\n",
       "      <td>5</td>\n",
       "      <td>42</td>\n",
       "      <td>0</td>\n",
       "      <td>1</td>\n",
       "      <td>42</td>\n",
       "      <td>69</td>\n",
       "      <td>2224</td>\n",
       "      <td>1116</td>\n",
       "      <td>17713</td>\n",
       "      <td>30565</td>\n",
       "      <td>0</td>\n",
       "      <td>3854</td>\n",
       "      <td>0</td>\n",
       "      <td>0</td>\n",
       "      <td>0.10</td>\n",
       "    </tr>\n",
       "  </tbody>\n",
       "</table>\n",
       "<p>5000 rows × 15 columns</p>\n",
       "</div>"
      ],
      "text/plain": [
       "              Groupe_CSP  Age_PP Nouveau_Client Sit_Fam  NIR_T  Dispo_Mensuel  \\\n",
       "Numero_Client                                                                   \n",
       "37080                  6      20              0       1     70           1603   \n",
       "5541                   6      26              0       1     69           1693   \n",
       "33999                  6      21              0       1     71           1810   \n",
       "25352                  6      52              0       2     81           3213   \n",
       "23212                  4      29              0       2     70           3462   \n",
       "...                  ...     ...            ...     ...    ...            ...   \n",
       "28380                  6      55              0       2     72           2524   \n",
       "24714                  6      30              0       2     80           1913   \n",
       "23026                  1      44              0       2     81           2386   \n",
       "38149                  6      28              0       6     70           2088   \n",
       "1944                   5      42              0       1     42             69   \n",
       "\n",
       "               Flux_Corr  SM_DAV_A  T_Ep_Risque  T_Ep_Taux_Fixe  T_Epar_Assur  \\\n",
       "Numero_Client                                                                   \n",
       "37080              21918       151            0             555             0   \n",
       "5541               27145      1072            0            1134             0   \n",
       "33999              29386       597          210            1537             0   \n",
       "25352              34093      1978            0            2748             0   \n",
       "23212              35096      1249            0             922             0   \n",
       "...                  ...       ...          ...             ...           ...   \n",
       "28380              28255      1009            0           24463             0   \n",
       "24714              29965      1556            0            3046             0   \n",
       "23026              37780       -22          429            1152          2237   \n",
       "38149              24932       350            0             326            23   \n",
       "1944                2224      1116        17713           30565             0   \n",
       "\n",
       "               T_P_Familiaux  Mt_Prelev_Auto P_P_Auto  prob  \n",
       "Numero_Client                                                \n",
       "37080                   4238            1764        0  0.83  \n",
       "5541                    4519            4846        0  0.81  \n",
       "33999                   7824            4900        0  0.80  \n",
       "25352                  10968            5612        0  0.79  \n",
       "23212                   5389             885        0  0.75  \n",
       "...                      ...             ...      ...   ...  \n",
       "28380                   6947            6265        0  0.10  \n",
       "24714                 136650            6103        0  0.10  \n",
       "23026                  86920            6520        0  0.10  \n",
       "38149                   1932            8469        0  0.10  \n",
       "1944                    3854               0        0  0.10  \n",
       "\n",
       "[5000 rows x 15 columns]"
      ]
     },
     "execution_count": 47,
     "metadata": {},
     "output_type": "execute_result"
    }
   ],
   "source": [
    "# Extraction des probabilité d'appartenence à 1\n",
    "ClientsAp[\"prob\"] = new[:,1]\n",
    "\n",
    "# Ordonne les probabilités par ordre décroissant\n",
    "ClientsAp_sort = ClientsAp.sort_values(by=\"prob\", ascending=False)\n",
    "\n",
    "# Affichage des 5000 premières clients \n",
    "print(\"Voici la liste des 5000 personnes les plus appétentes à l'offre de prêt automobile.\")\n",
    "ClientsAp_sort.head(5000)"
   ]
  },
  {
   "cell_type": "code",
   "execution_count": null,
   "metadata": {},
   "outputs": [],
   "source": []
  }
 ],
 "metadata": {
  "kernelspec": {
   "display_name": "Python 3",
   "language": "python",
   "name": "python3"
  },
  "language_info": {
   "codemirror_mode": {
    "name": "ipython",
    "version": 3
   },
   "file_extension": ".py",
   "mimetype": "text/x-python",
   "name": "python",
   "nbconvert_exporter": "python",
   "pygments_lexer": "ipython3",
   "version": "3.7.3"
  }
 },
 "nbformat": 4,
 "nbformat_minor": 2
}
